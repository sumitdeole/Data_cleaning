{
 "cells": [
  {
   "cell_type": "markdown",
   "id": "b2c24c43-c1c7-40b1-8256-d10fa5ede816",
   "metadata": {},
   "source": [
    "# 1. Import packages and data"
   ]
  },
  {
   "cell_type": "code",
   "execution_count": 240,
   "id": "a8bcf02d-a3d6-4bf8-a05b-e40fc4289a78",
   "metadata": {},
   "outputs": [],
   "source": [
    "import pandas as pd\n",
    "pd.set_option('display.float_format', lambda x: '%.2f' % x)\n",
    "pd.set_option('display.max_rows', 1000)\n",
    "\n",
    "\n",
    "import numpy as np\n",
    "import seaborn as sns\n",
    "import matplotlib.pyplot as plt\n",
    "from matplotlib.lines import Line2D\n",
    "from scipy import stats\n",
    "\n",
    "import warnings\n",
    "warnings.filterwarnings(\"ignore\")"
   ]
  },
  {
   "cell_type": "code",
   "execution_count": 241,
   "id": "fbae2d5a-a451-49b1-b054-d0e71eafeaa0",
   "metadata": {},
   "outputs": [
    {
     "data": {
      "text/html": [
       "<div>\n",
       "<style scoped>\n",
       "    .dataframe tbody tr th:only-of-type {\n",
       "        vertical-align: middle;\n",
       "    }\n",
       "\n",
       "    .dataframe tbody tr th {\n",
       "        vertical-align: top;\n",
       "    }\n",
       "\n",
       "    .dataframe thead th {\n",
       "        text-align: right;\n",
       "    }\n",
       "</style>\n",
       "<table border=\"1\" class=\"dataframe\">\n",
       "  <thead>\n",
       "    <tr style=\"text-align: right;\">\n",
       "      <th></th>\n",
       "      <th>sku</th>\n",
       "      <th>name</th>\n",
       "      <th>desc</th>\n",
       "      <th>price</th>\n",
       "      <th>promo_price</th>\n",
       "      <th>in_stock</th>\n",
       "      <th>type</th>\n",
       "    </tr>\n",
       "  </thead>\n",
       "  <tbody>\n",
       "    <tr>\n",
       "      <th>0</th>\n",
       "      <td>RAI0007</td>\n",
       "      <td>Silver Rain Design mStand Support</td>\n",
       "      <td>Aluminum support compatible with all MacBook</td>\n",
       "      <td>59.99</td>\n",
       "      <td>499.899</td>\n",
       "      <td>1</td>\n",
       "      <td>8696</td>\n",
       "    </tr>\n",
       "    <tr>\n",
       "      <th>1</th>\n",
       "      <td>APP0023</td>\n",
       "      <td>Apple Mac Keyboard Keypad Spanish</td>\n",
       "      <td>USB ultrathin keyboard Apple Mac Spanish.</td>\n",
       "      <td>59</td>\n",
       "      <td>589.996</td>\n",
       "      <td>0</td>\n",
       "      <td>13855401</td>\n",
       "    </tr>\n",
       "    <tr>\n",
       "      <th>2</th>\n",
       "      <td>APP0025</td>\n",
       "      <td>Mighty Mouse Apple Mouse for Mac</td>\n",
       "      <td>mouse Apple USB cable.</td>\n",
       "      <td>59</td>\n",
       "      <td>569.898</td>\n",
       "      <td>0</td>\n",
       "      <td>1387</td>\n",
       "    </tr>\n",
       "    <tr>\n",
       "      <th>3</th>\n",
       "      <td>APP0072</td>\n",
       "      <td>Apple Dock to USB Cable iPhone and iPod white</td>\n",
       "      <td>IPhone dock and USB Cable Apple iPod.</td>\n",
       "      <td>25</td>\n",
       "      <td>229.997</td>\n",
       "      <td>0</td>\n",
       "      <td>1230</td>\n",
       "    </tr>\n",
       "    <tr>\n",
       "      <th>4</th>\n",
       "      <td>KIN0007</td>\n",
       "      <td>Mac Memory Kingston 2GB 667MHz DDR2 SO-DIMM</td>\n",
       "      <td>2GB RAM Mac mini and iMac (2006/07) MacBook Pr...</td>\n",
       "      <td>34.99</td>\n",
       "      <td>31.99</td>\n",
       "      <td>1</td>\n",
       "      <td>1364</td>\n",
       "    </tr>\n",
       "  </tbody>\n",
       "</table>\n",
       "</div>"
      ],
      "text/plain": [
       "       sku                                           name  \\\n",
       "0  RAI0007              Silver Rain Design mStand Support   \n",
       "1  APP0023              Apple Mac Keyboard Keypad Spanish   \n",
       "2  APP0025               Mighty Mouse Apple Mouse for Mac   \n",
       "3  APP0072  Apple Dock to USB Cable iPhone and iPod white   \n",
       "4  KIN0007    Mac Memory Kingston 2GB 667MHz DDR2 SO-DIMM   \n",
       "\n",
       "                                                desc  price promo_price  \\\n",
       "0       Aluminum support compatible with all MacBook  59.99     499.899   \n",
       "1          USB ultrathin keyboard Apple Mac Spanish.     59     589.996   \n",
       "2                             mouse Apple USB cable.     59     569.898   \n",
       "3              IPhone dock and USB Cable Apple iPod.     25     229.997   \n",
       "4  2GB RAM Mac mini and iMac (2006/07) MacBook Pr...  34.99       31.99   \n",
       "\n",
       "   in_stock      type  \n",
       "0         1      8696  \n",
       "1         0  13855401  \n",
       "2         0      1387  \n",
       "3         0      1230  \n",
       "4         1      1364  "
      ]
     },
     "execution_count": 241,
     "metadata": {},
     "output_type": "execute_result"
    }
   ],
   "source": [
    "# Define the file path\n",
    "folder_path = r\"C:\\Users\\sumit\\Dropbox\\WBS Bootcamp\\Course\\3. Data cleaning project\\Group 4\\Data\"\n",
    "\n",
    "# Rather manual stuff. But for an automated way, see Alternative II below \n",
    "df_prod = pd.read_csv(f\"{folder_path}\\\\products.csv\")\n",
    "df_ord = pd.read_csv(f\"{folder_path}\\\\orders.csv\")\n",
    "df_orderlines = pd.read_csv(f\"{folder_path}\\\\orderlines.csv\")\n",
    "df_brands = pd.read_csv(f\"{folder_path}\\\\brands.csv\")\n",
    "\n",
    "#Lets check if it works!\n",
    "df_prod.head()"
   ]
  },
  {
   "cell_type": "markdown",
   "id": "175a2e6f-c917-4cc2-b2a5-18c309f4866d",
   "metadata": {},
   "source": [
    "# 2. Data cleaning I - data frames\n",
    "## 2.1 Products dataframe"
   ]
  },
  {
   "cell_type": "code",
   "execution_count": 242,
   "id": "1d271265-0dc8-458d-afaf-33c347c7ff45",
   "metadata": {},
   "outputs": [
    {
     "name": "stdout",
     "output_type": "stream",
     "text": [
      "<class 'pandas.core.frame.DataFrame'>\n",
      "RangeIndex: 19326 entries, 0 to 19325\n",
      "Data columns (total 7 columns):\n",
      " #   Column       Non-Null Count  Dtype \n",
      "---  ------       --------------  ----- \n",
      " 0   sku          19326 non-null  object\n",
      " 1   name         19326 non-null  object\n",
      " 2   desc         19319 non-null  object\n",
      " 3   price        19280 non-null  object\n",
      " 4   promo_price  19326 non-null  object\n",
      " 5   in_stock     19326 non-null  int64 \n",
      " 6   type         19276 non-null  object\n",
      "dtypes: int64(1), object(6)\n",
      "memory usage: 1.0+ MB\n"
     ]
    }
   ],
   "source": [
    "# Let's first visualize column data types and missing values\n",
    "df_prod.info()"
   ]
  },
  {
   "cell_type": "markdown",
   "id": "d83ac6b7-7b05-4a0b-9caa-84b52229466a",
   "metadata": {},
   "source": [
    "**Note: ** Columns \"price\" and \"promo_price\" are strings, and not numerical. Some missing observations\n",
    "### 2.1.1 Lets check duplicates and drop them"
   ]
  },
  {
   "cell_type": "code",
   "execution_count": 243,
   "id": "658cb04c-223b-4dc9-84b4-28a0a4b56050",
   "metadata": {},
   "outputs": [
    {
     "name": "stdout",
     "output_type": "stream",
     "text": [
      "This dataframe has the following num of duplicates:  8746\n"
     ]
    },
    {
     "data": {
      "text/plain": [
       "(10580, 7)"
      ]
     },
     "execution_count": 243,
     "metadata": {},
     "output_type": "execute_result"
    }
   ],
   "source": [
    "# Check duplicates\n",
    "print(\"This dataframe has the following num of duplicates: \", len(df_prod)-len(df_prod.drop_duplicates()))\n",
    "# Drop duplicates\n",
    "df_prod_dropped = df_prod.drop_duplicates()\n",
    "df_prod_dropped.shape"
   ]
  },
  {
   "cell_type": "code",
   "execution_count": 244,
   "id": "1bf94430-8ee4-43c4-a7f3-d9604bce078c",
   "metadata": {},
   "outputs": [
    {
     "name": "stdout",
     "output_type": "stream",
     "text": [
      "This dataframe has the following missing values:  sku             0\n",
      "name            0\n",
      "desc            7\n",
      "price          46\n",
      "promo_price     0\n",
      "in_stock        0\n",
      "type           50\n",
      "dtype: int64\n",
      "5 missing values represents sku           0.00\n",
      "name          0.00\n",
      "desc          0.07\n",
      "price         0.43\n",
      "promo_price   0.00\n",
      "in_stock      0.00\n",
      "type          0.47\n",
      "dtype: float64% of the rows in our DataFrame\n",
      "<class 'pandas.core.frame.DataFrame'>\n",
      "Index: 10534 entries, 0 to 19325\n",
      "Data columns (total 7 columns):\n",
      " #   Column       Non-Null Count  Dtype \n",
      "---  ------       --------------  ----- \n",
      " 0   sku          10534 non-null  object\n",
      " 1   name         10534 non-null  object\n",
      " 2   desc         10534 non-null  object\n",
      " 3   price        10534 non-null  object\n",
      " 4   promo_price  10534 non-null  object\n",
      " 5   in_stock     10534 non-null  int64 \n",
      " 6   type         10484 non-null  object\n",
      "dtypes: int64(1), object(6)\n",
      "memory usage: 658.4+ KB\n"
     ]
    }
   ],
   "source": [
    "# Check missing values\n",
    "print(\"This dataframe has the following missing values: \", df_prod_dropped.isna().sum())\n",
    "print(f\"5 missing values represents {((df_prod_dropped.isna().sum() / df_prod_dropped.shape[0])*100).round(5)}% of the rows in our DataFrame\")\n",
    "\n",
    "# Drop missing\n",
    "df_prod_dropped_na = df_prod_dropped.dropna(subset=[\"price\"])\n",
    "df_prod_dropped_na.loc[df_prod_dropped_na['desc'].isna(), 'desc'] = df_prod_dropped_na.loc[df_prod_dropped_na['desc'].isna(), 'name']\n",
    "df_prod_dropped_na.info()"
   ]
  },
  {
   "cell_type": "markdown",
   "id": "06360eb4-e22a-484c-8df0-c4bab55bcb62",
   "metadata": {},
   "source": [
    "### 2.1.2 Lets visualize price and promo_price columns"
   ]
  },
  {
   "cell_type": "code",
   "execution_count": 245,
   "id": "ec6e77de-e91f-4189-9972-466ef4cf18d1",
   "metadata": {},
   "outputs": [
    {
     "data": {
      "text/html": [
       "<div>\n",
       "<style scoped>\n",
       "    .dataframe tbody tr th:only-of-type {\n",
       "        vertical-align: middle;\n",
       "    }\n",
       "\n",
       "    .dataframe tbody tr th {\n",
       "        vertical-align: top;\n",
       "    }\n",
       "\n",
       "    .dataframe thead th {\n",
       "        text-align: right;\n",
       "    }\n",
       "</style>\n",
       "<table border=\"1\" class=\"dataframe\">\n",
       "  <thead>\n",
       "    <tr style=\"text-align: right;\">\n",
       "      <th></th>\n",
       "      <th>price</th>\n",
       "      <th>promo_price</th>\n",
       "    </tr>\n",
       "  </thead>\n",
       "  <tbody>\n",
       "    <tr>\n",
       "      <th>14114</th>\n",
       "      <td>4759</td>\n",
       "      <td>45.265.846</td>\n",
       "    </tr>\n",
       "    <tr>\n",
       "      <th>2456</th>\n",
       "      <td>1331</td>\n",
       "      <td>1.319.989</td>\n",
       "    </tr>\n",
       "    <tr>\n",
       "      <th>10899</th>\n",
       "      <td>171.98</td>\n",
       "      <td>1.329.899</td>\n",
       "    </tr>\n",
       "    <tr>\n",
       "      <th>18590</th>\n",
       "      <td>59</td>\n",
       "      <td>49</td>\n",
       "    </tr>\n",
       "    <tr>\n",
       "      <th>16637</th>\n",
       "      <td>45</td>\n",
       "      <td>389.995</td>\n",
       "    </tr>\n",
       "    <tr>\n",
       "      <th>17731</th>\n",
       "      <td>890.99</td>\n",
       "      <td>8.343.676</td>\n",
       "    </tr>\n",
       "    <tr>\n",
       "      <th>12784</th>\n",
       "      <td>49.95</td>\n",
       "      <td>474.901</td>\n",
       "    </tr>\n",
       "    <tr>\n",
       "      <th>15475</th>\n",
       "      <td>79.99</td>\n",
       "      <td>799.895</td>\n",
       "    </tr>\n",
       "    <tr>\n",
       "      <th>463</th>\n",
       "      <td>59.99</td>\n",
       "      <td>499.004</td>\n",
       "    </tr>\n",
       "    <tr>\n",
       "      <th>11940</th>\n",
       "      <td>199.98</td>\n",
       "      <td>1.979.899</td>\n",
       "    </tr>\n",
       "    <tr>\n",
       "      <th>2806</th>\n",
       "      <td>72.99</td>\n",
       "      <td>328.999</td>\n",
       "    </tr>\n",
       "    <tr>\n",
       "      <th>1749</th>\n",
       "      <td>366.934</td>\n",
       "      <td>4.439.901</td>\n",
       "    </tr>\n",
       "    <tr>\n",
       "      <th>17585</th>\n",
       "      <td>369</td>\n",
       "      <td>3.620.005</td>\n",
       "    </tr>\n",
       "    <tr>\n",
       "      <th>1376</th>\n",
       "      <td>1339</td>\n",
       "      <td>1.259.005</td>\n",
       "    </tr>\n",
       "    <tr>\n",
       "      <th>18658</th>\n",
       "      <td>129.95</td>\n",
       "      <td>1.149.899</td>\n",
       "    </tr>\n",
       "    <tr>\n",
       "      <th>2027</th>\n",
       "      <td>79.95</td>\n",
       "      <td>758.997</td>\n",
       "    </tr>\n",
       "    <tr>\n",
       "      <th>791</th>\n",
       "      <td>60.99</td>\n",
       "      <td>129.894</td>\n",
       "    </tr>\n",
       "    <tr>\n",
       "      <th>1853</th>\n",
       "      <td>49.99</td>\n",
       "      <td>399.905</td>\n",
       "    </tr>\n",
       "    <tr>\n",
       "      <th>18124</th>\n",
       "      <td>159.95</td>\n",
       "      <td>146.99</td>\n",
       "    </tr>\n",
       "    <tr>\n",
       "      <th>14605</th>\n",
       "      <td>119.99</td>\n",
       "      <td>819.896</td>\n",
       "    </tr>\n",
       "    <tr>\n",
       "      <th>11635</th>\n",
       "      <td>29.9</td>\n",
       "      <td>249.901</td>\n",
       "    </tr>\n",
       "    <tr>\n",
       "      <th>11540</th>\n",
       "      <td>119.99</td>\n",
       "      <td>922.794</td>\n",
       "    </tr>\n",
       "    <tr>\n",
       "      <th>17333</th>\n",
       "      <td>869</td>\n",
       "      <td>3.890.005</td>\n",
       "    </tr>\n",
       "    <tr>\n",
       "      <th>18238</th>\n",
       "      <td>319</td>\n",
       "      <td>2.369.053</td>\n",
       "    </tr>\n",
       "    <tr>\n",
       "      <th>13178</th>\n",
       "      <td>709.67</td>\n",
       "      <td>5.361.788</td>\n",
       "    </tr>\n",
       "    <tr>\n",
       "      <th>14980</th>\n",
       "      <td>339.99</td>\n",
       "      <td>2.815.511</td>\n",
       "    </tr>\n",
       "    <tr>\n",
       "      <th>13642</th>\n",
       "      <td>29.99</td>\n",
       "      <td>19.69</td>\n",
       "    </tr>\n",
       "    <tr>\n",
       "      <th>486</th>\n",
       "      <td>12.99</td>\n",
       "      <td>99.898</td>\n",
       "    </tr>\n",
       "    <tr>\n",
       "      <th>18948</th>\n",
       "      <td>6638.99</td>\n",
       "      <td>53.999.941</td>\n",
       "    </tr>\n",
       "    <tr>\n",
       "      <th>1220</th>\n",
       "      <td>159.99</td>\n",
       "      <td>889.955</td>\n",
       "    </tr>\n",
       "    <tr>\n",
       "      <th>18699</th>\n",
       "      <td>42.99</td>\n",
       "      <td>89.973</td>\n",
       "    </tr>\n",
       "    <tr>\n",
       "      <th>12130</th>\n",
       "      <td>28.98</td>\n",
       "      <td>259.896</td>\n",
       "    </tr>\n",
       "    <tr>\n",
       "      <th>18859</th>\n",
       "      <td>59.99</td>\n",
       "      <td>429.901</td>\n",
       "    </tr>\n",
       "    <tr>\n",
       "      <th>11466</th>\n",
       "      <td>124.99</td>\n",
       "      <td>1.067.934</td>\n",
       "    </tr>\n",
       "    <tr>\n",
       "      <th>13537</th>\n",
       "      <td>59</td>\n",
       "      <td>479.995</td>\n",
       "    </tr>\n",
       "    <tr>\n",
       "      <th>12333</th>\n",
       "      <td>276.37</td>\n",
       "      <td>2.445.846</td>\n",
       "    </tr>\n",
       "    <tr>\n",
       "      <th>14935</th>\n",
       "      <td>601.31</td>\n",
       "      <td>5.085.848</td>\n",
       "    </tr>\n",
       "    <tr>\n",
       "      <th>14779</th>\n",
       "      <td>1886.95</td>\n",
       "      <td>13.013.683</td>\n",
       "    </tr>\n",
       "    <tr>\n",
       "      <th>15842</th>\n",
       "      <td>29.99</td>\n",
       "      <td>205.299</td>\n",
       "    </tr>\n",
       "    <tr>\n",
       "      <th>13666</th>\n",
       "      <td>39.95</td>\n",
       "      <td>349.896</td>\n",
       "    </tr>\n",
       "    <tr>\n",
       "      <th>18478</th>\n",
       "      <td>6459</td>\n",
       "      <td>60.710.044</td>\n",
       "    </tr>\n",
       "    <tr>\n",
       "      <th>11673</th>\n",
       "      <td>349.99</td>\n",
       "      <td>2.599.891</td>\n",
       "    </tr>\n",
       "    <tr>\n",
       "      <th>16895</th>\n",
       "      <td>5129</td>\n",
       "      <td>43.310.045</td>\n",
       "    </tr>\n",
       "    <tr>\n",
       "      <th>19297</th>\n",
       "      <td>6.999.003</td>\n",
       "      <td>69.99</td>\n",
       "    </tr>\n",
       "    <tr>\n",
       "      <th>15628</th>\n",
       "      <td>369</td>\n",
       "      <td>3.690.004</td>\n",
       "    </tr>\n",
       "    <tr>\n",
       "      <th>11554</th>\n",
       "      <td>69.95</td>\n",
       "      <td>499.899</td>\n",
       "    </tr>\n",
       "    <tr>\n",
       "      <th>11689</th>\n",
       "      <td>29.95</td>\n",
       "      <td>22.99</td>\n",
       "    </tr>\n",
       "    <tr>\n",
       "      <th>10634</th>\n",
       "      <td>139.95</td>\n",
       "      <td>1.198.989</td>\n",
       "    </tr>\n",
       "    <tr>\n",
       "      <th>290</th>\n",
       "      <td>79.99</td>\n",
       "      <td>489.929</td>\n",
       "    </tr>\n",
       "    <tr>\n",
       "      <th>15208</th>\n",
       "      <td>17.99</td>\n",
       "      <td>159.889</td>\n",
       "    </tr>\n",
       "    <tr>\n",
       "      <th>17718</th>\n",
       "      <td>179.99</td>\n",
       "      <td>1.699.929</td>\n",
       "    </tr>\n",
       "    <tr>\n",
       "      <th>17748</th>\n",
       "      <td>1353.71</td>\n",
       "      <td>11.863.675</td>\n",
       "    </tr>\n",
       "    <tr>\n",
       "      <th>10853</th>\n",
       "      <td>39.99</td>\n",
       "      <td>349.896</td>\n",
       "    </tr>\n",
       "    <tr>\n",
       "      <th>17358</th>\n",
       "      <td>99.99</td>\n",
       "      <td>709.538</td>\n",
       "    </tr>\n",
       "    <tr>\n",
       "      <th>15008</th>\n",
       "      <td>29.99</td>\n",
       "      <td>192.791</td>\n",
       "    </tr>\n",
       "    <tr>\n",
       "      <th>12600</th>\n",
       "      <td>129.95</td>\n",
       "      <td>1.169.901</td>\n",
       "    </tr>\n",
       "    <tr>\n",
       "      <th>18230</th>\n",
       "      <td>119</td>\n",
       "      <td>1.069.894</td>\n",
       "    </tr>\n",
       "    <tr>\n",
       "      <th>15261</th>\n",
       "      <td>54.99</td>\n",
       "      <td>399.905</td>\n",
       "    </tr>\n",
       "    <tr>\n",
       "      <th>15411</th>\n",
       "      <td>39.99</td>\n",
       "      <td>399.893</td>\n",
       "    </tr>\n",
       "    <tr>\n",
       "      <th>15637</th>\n",
       "      <td>39</td>\n",
       "      <td>339.998</td>\n",
       "    </tr>\n",
       "    <tr>\n",
       "      <th>16618</th>\n",
       "      <td>4599</td>\n",
       "      <td>42.770.039</td>\n",
       "    </tr>\n",
       "    <tr>\n",
       "      <th>17848</th>\n",
       "      <td>1551.33</td>\n",
       "      <td>13.061.793</td>\n",
       "    </tr>\n",
       "    <tr>\n",
       "      <th>2734</th>\n",
       "      <td>129.99</td>\n",
       "      <td>109.989</td>\n",
       "    </tr>\n",
       "    <tr>\n",
       "      <th>11620</th>\n",
       "      <td>79.99</td>\n",
       "      <td>721.892</td>\n",
       "    </tr>\n",
       "    <tr>\n",
       "      <th>15576</th>\n",
       "      <td>149.99</td>\n",
       "      <td>1.130.443</td>\n",
       "    </tr>\n",
       "    <tr>\n",
       "      <th>13343</th>\n",
       "      <td>639</td>\n",
       "      <td>6.259.996</td>\n",
       "    </tr>\n",
       "    <tr>\n",
       "      <th>1025</th>\n",
       "      <td>179</td>\n",
       "      <td>174.989</td>\n",
       "    </tr>\n",
       "    <tr>\n",
       "      <th>15878</th>\n",
       "      <td>24.95</td>\n",
       "      <td>189.897</td>\n",
       "    </tr>\n",
       "    <tr>\n",
       "      <th>12165</th>\n",
       "      <td>79.95</td>\n",
       "      <td>69.99</td>\n",
       "    </tr>\n",
       "    <tr>\n",
       "      <th>1848</th>\n",
       "      <td>34.99</td>\n",
       "      <td>249.865</td>\n",
       "    </tr>\n",
       "    <tr>\n",
       "      <th>17925</th>\n",
       "      <td>2636.94</td>\n",
       "      <td>21.173.681</td>\n",
       "    </tr>\n",
       "    <tr>\n",
       "      <th>16106</th>\n",
       "      <td>389</td>\n",
       "      <td>3.889.993</td>\n",
       "    </tr>\n",
       "    <tr>\n",
       "      <th>1970</th>\n",
       "      <td>425.98</td>\n",
       "      <td>3.085.851</td>\n",
       "    </tr>\n",
       "    <tr>\n",
       "      <th>1252</th>\n",
       "      <td>19.99</td>\n",
       "      <td>69.902</td>\n",
       "    </tr>\n",
       "    <tr>\n",
       "      <th>14937</th>\n",
       "      <td>153.38</td>\n",
       "      <td>1.285.843</td>\n",
       "    </tr>\n",
       "    <tr>\n",
       "      <th>743</th>\n",
       "      <td>10649</td>\n",
       "      <td>93.929.904</td>\n",
       "    </tr>\n",
       "    <tr>\n",
       "      <th>12209</th>\n",
       "      <td>1219</td>\n",
       "      <td>11.645.851</td>\n",
       "    </tr>\n",
       "    <tr>\n",
       "      <th>17980</th>\n",
       "      <td>85</td>\n",
       "      <td>789.997</td>\n",
       "    </tr>\n",
       "    <tr>\n",
       "      <th>15249</th>\n",
       "      <td>105</td>\n",
       "      <td>999.896</td>\n",
       "    </tr>\n",
       "    <tr>\n",
       "      <th>1960</th>\n",
       "      <td>247.98</td>\n",
       "      <td>2.009.895</td>\n",
       "    </tr>\n",
       "    <tr>\n",
       "      <th>1885</th>\n",
       "      <td>14.99</td>\n",
       "      <td>99.898</td>\n",
       "    </tr>\n",
       "    <tr>\n",
       "      <th>19307</th>\n",
       "      <td>49.99</td>\n",
       "      <td>499.899</td>\n",
       "    </tr>\n",
       "    <tr>\n",
       "      <th>2304</th>\n",
       "      <td>911</td>\n",
       "      <td>7.417.905</td>\n",
       "    </tr>\n",
       "    <tr>\n",
       "      <th>4701</th>\n",
       "      <td>3769</td>\n",
       "      <td>31.969.894</td>\n",
       "    </tr>\n",
       "    <tr>\n",
       "      <th>2344</th>\n",
       "      <td>49.9</td>\n",
       "      <td>328.999</td>\n",
       "    </tr>\n",
       "    <tr>\n",
       "      <th>17505</th>\n",
       "      <td>24.95</td>\n",
       "      <td>199.904</td>\n",
       "    </tr>\n",
       "    <tr>\n",
       "      <th>10971</th>\n",
       "      <td>569</td>\n",
       "      <td>4.699.035</td>\n",
       "    </tr>\n",
       "    <tr>\n",
       "      <th>15410</th>\n",
       "      <td>44.99</td>\n",
       "      <td>44.99</td>\n",
       "    </tr>\n",
       "    <tr>\n",
       "      <th>12808</th>\n",
       "      <td>4.99</td>\n",
       "      <td>47.408</td>\n",
       "    </tr>\n",
       "    <tr>\n",
       "      <th>16131</th>\n",
       "      <td>124</td>\n",
       "      <td>1.199.897</td>\n",
       "    </tr>\n",
       "    <tr>\n",
       "      <th>13320</th>\n",
       "      <td>34.95</td>\n",
       "      <td>309.905</td>\n",
       "    </tr>\n",
       "    <tr>\n",
       "      <th>2980</th>\n",
       "      <td>199.95</td>\n",
       "      <td>1.999.888</td>\n",
       "    </tr>\n",
       "    <tr>\n",
       "      <th>17214</th>\n",
       "      <td>139.99</td>\n",
       "      <td>1.149.901</td>\n",
       "    </tr>\n",
       "    <tr>\n",
       "      <th>8142</th>\n",
       "      <td>2449</td>\n",
       "      <td>23.335.842</td>\n",
       "    </tr>\n",
       "    <tr>\n",
       "      <th>2679</th>\n",
       "      <td>1995.29</td>\n",
       "      <td>19.949.899</td>\n",
       "    </tr>\n",
       "    <tr>\n",
       "      <th>17382</th>\n",
       "      <td>145.99</td>\n",
       "      <td>1.239.899</td>\n",
       "    </tr>\n",
       "    <tr>\n",
       "      <th>17947</th>\n",
       "      <td>475.97</td>\n",
       "      <td>4.369.903</td>\n",
       "    </tr>\n",
       "    <tr>\n",
       "      <th>13131</th>\n",
       "      <td>299</td>\n",
       "      <td>239.615</td>\n",
       "    </tr>\n",
       "    <tr>\n",
       "      <th>886</th>\n",
       "      <td>1999</td>\n",
       "      <td>18.699.897</td>\n",
       "    </tr>\n",
       "    <tr>\n",
       "      <th>19255</th>\n",
       "      <td>129.99</td>\n",
       "      <td>79.99</td>\n",
       "    </tr>\n",
       "  </tbody>\n",
       "</table>\n",
       "</div>"
      ],
      "text/plain": [
       "           price promo_price\n",
       "14114       4759  45.265.846\n",
       "2456        1331   1.319.989\n",
       "10899     171.98   1.329.899\n",
       "18590         59          49\n",
       "16637         45     389.995\n",
       "17731     890.99   8.343.676\n",
       "12784      49.95     474.901\n",
       "15475      79.99     799.895\n",
       "463        59.99     499.004\n",
       "11940     199.98   1.979.899\n",
       "2806       72.99     328.999\n",
       "1749     366.934   4.439.901\n",
       "17585        369   3.620.005\n",
       "1376        1339   1.259.005\n",
       "18658     129.95   1.149.899\n",
       "2027       79.95     758.997\n",
       "791        60.99     129.894\n",
       "1853       49.99     399.905\n",
       "18124     159.95      146.99\n",
       "14605     119.99     819.896\n",
       "11635       29.9     249.901\n",
       "11540     119.99     922.794\n",
       "17333        869   3.890.005\n",
       "18238        319   2.369.053\n",
       "13178     709.67   5.361.788\n",
       "14980     339.99   2.815.511\n",
       "13642      29.99       19.69\n",
       "486        12.99      99.898\n",
       "18948    6638.99  53.999.941\n",
       "1220      159.99     889.955\n",
       "18699      42.99      89.973\n",
       "12130      28.98     259.896\n",
       "18859      59.99     429.901\n",
       "11466     124.99   1.067.934\n",
       "13537         59     479.995\n",
       "12333     276.37   2.445.846\n",
       "14935     601.31   5.085.848\n",
       "14779    1886.95  13.013.683\n",
       "15842      29.99     205.299\n",
       "13666      39.95     349.896\n",
       "18478       6459  60.710.044\n",
       "11673     349.99   2.599.891\n",
       "16895       5129  43.310.045\n",
       "19297  6.999.003       69.99\n",
       "15628        369   3.690.004\n",
       "11554      69.95     499.899\n",
       "11689      29.95       22.99\n",
       "10634     139.95   1.198.989\n",
       "290        79.99     489.929\n",
       "15208      17.99     159.889\n",
       "17718     179.99   1.699.929\n",
       "17748    1353.71  11.863.675\n",
       "10853      39.99     349.896\n",
       "17358      99.99     709.538\n",
       "15008      29.99     192.791\n",
       "12600     129.95   1.169.901\n",
       "18230        119   1.069.894\n",
       "15261      54.99     399.905\n",
       "15411      39.99     399.893\n",
       "15637         39     339.998\n",
       "16618       4599  42.770.039\n",
       "17848    1551.33  13.061.793\n",
       "2734      129.99     109.989\n",
       "11620      79.99     721.892\n",
       "15576     149.99   1.130.443\n",
       "13343        639   6.259.996\n",
       "1025         179     174.989\n",
       "15878      24.95     189.897\n",
       "12165      79.95       69.99\n",
       "1848       34.99     249.865\n",
       "17925    2636.94  21.173.681\n",
       "16106        389   3.889.993\n",
       "1970      425.98   3.085.851\n",
       "1252       19.99      69.902\n",
       "14937     153.38   1.285.843\n",
       "743        10649  93.929.904\n",
       "12209       1219  11.645.851\n",
       "17980         85     789.997\n",
       "15249        105     999.896\n",
       "1960      247.98   2.009.895\n",
       "1885       14.99      99.898\n",
       "19307      49.99     499.899\n",
       "2304         911   7.417.905\n",
       "4701        3769  31.969.894\n",
       "2344        49.9     328.999\n",
       "17505      24.95     199.904\n",
       "10971        569   4.699.035\n",
       "15410      44.99       44.99\n",
       "12808       4.99      47.408\n",
       "16131        124   1.199.897\n",
       "13320      34.95     309.905\n",
       "2980      199.95   1.999.888\n",
       "17214     139.99   1.149.901\n",
       "8142        2449  23.335.842\n",
       "2679     1995.29  19.949.899\n",
       "17382     145.99   1.239.899\n",
       "17947     475.97   4.369.903\n",
       "13131        299     239.615\n",
       "886         1999  18.699.897\n",
       "19255     129.99       79.99"
      ]
     },
     "execution_count": 245,
     "metadata": {},
     "output_type": "execute_result"
    }
   ],
   "source": [
    "df_prod_dropped_na[[\"price\", \"promo_price\"]].sample(100)"
   ]
  },
  {
   "cell_type": "markdown",
   "id": "f803a213-7365-4c5f-a907-77554f4441dc",
   "metadata": {},
   "source": [
    "> The issue of the column object type is quickly visible. Many rows in price_column have 2 dots \".\" in them."
   ]
  },
  {
   "cell_type": "code",
   "execution_count": 246,
   "id": "24d2e99a-c29a-4c71-91cf-84d481b72538",
   "metadata": {},
   "outputs": [
    {
     "data": {
      "text/plain": [
       "4597"
      ]
     },
     "execution_count": 246,
     "metadata": {},
     "output_type": "execute_result"
    }
   ],
   "source": [
    "(df_prod_dropped_na['promo_price'].str.count('\\.') > 1).sum()"
   ]
  },
  {
   "cell_type": "code",
   "execution_count": 247,
   "id": "ef7703cf-0e7a-4c77-8863-747076926e81",
   "metadata": {},
   "outputs": [
    {
     "name": "stdout",
     "output_type": "stream",
     "text": [
      "The 2 dot problem represents 43.64% of the rows in the 'promo_price' column.\n"
     ]
    }
   ],
   "source": [
    "two_dot_percentage_promo_price = ((df_prod_dropped_na.promo_price.str.contains(\"\\d+\\.\\d+\\.\\d+\").value_counts()[1] / df_prod_dropped_na.shape[0])*100).round(2)\n",
    "print(f\"The 2 dot problem represents {two_dot_percentage_promo_price}% of the rows in the 'promo_price' column.\")"
   ]
  },
  {
   "cell_type": "markdown",
   "id": "dbee6ace-d044-4984-a890-d10869f57380",
   "metadata": {},
   "source": [
    "> The issue of 2 dots affects rather a large portion of the sample and we need to find a way to resolve it (and <u>cannot drop</u> them). "
   ]
  },
  {
   "cell_type": "code",
   "execution_count": 248,
   "id": "f55eeccd-7585-4784-9208-19f616bae7be",
   "metadata": {},
   "outputs": [
    {
     "data": {
      "text/html": [
       "<div>\n",
       "<style scoped>\n",
       "    .dataframe tbody tr th:only-of-type {\n",
       "        vertical-align: middle;\n",
       "    }\n",
       "\n",
       "    .dataframe tbody tr th {\n",
       "        vertical-align: top;\n",
       "    }\n",
       "\n",
       "    .dataframe thead th {\n",
       "        text-align: right;\n",
       "    }\n",
       "</style>\n",
       "<table border=\"1\" class=\"dataframe\">\n",
       "  <thead>\n",
       "    <tr style=\"text-align: right;\">\n",
       "      <th></th>\n",
       "      <th>price</th>\n",
       "      <th>promo_price</th>\n",
       "    </tr>\n",
       "  </thead>\n",
       "  <tbody>\n",
       "    <tr>\n",
       "      <th>19316</th>\n",
       "      <td>6.999.003</td>\n",
       "      <td>69.99</td>\n",
       "    </tr>\n",
       "    <tr>\n",
       "      <th>19317</th>\n",
       "      <td>159.99</td>\n",
       "      <td>1.599.898</td>\n",
       "    </tr>\n",
       "    <tr>\n",
       "      <th>19318</th>\n",
       "      <td>139.99</td>\n",
       "      <td>1.399.897</td>\n",
       "    </tr>\n",
       "    <tr>\n",
       "      <th>19319</th>\n",
       "      <td>179</td>\n",
       "      <td>1.699.905</td>\n",
       "    </tr>\n",
       "    <tr>\n",
       "      <th>19320</th>\n",
       "      <td>149.99</td>\n",
       "      <td>1.499.795</td>\n",
       "    </tr>\n",
       "    <tr>\n",
       "      <th>19321</th>\n",
       "      <td>29.99</td>\n",
       "      <td>269.903</td>\n",
       "    </tr>\n",
       "    <tr>\n",
       "      <th>19322</th>\n",
       "      <td>69.95</td>\n",
       "      <td>649.903</td>\n",
       "    </tr>\n",
       "    <tr>\n",
       "      <th>19323</th>\n",
       "      <td>69.95</td>\n",
       "      <td>649.903</td>\n",
       "    </tr>\n",
       "    <tr>\n",
       "      <th>19324</th>\n",
       "      <td>69.95</td>\n",
       "      <td>649.903</td>\n",
       "    </tr>\n",
       "    <tr>\n",
       "      <th>19325</th>\n",
       "      <td>69.95</td>\n",
       "      <td>649.903</td>\n",
       "    </tr>\n",
       "  </tbody>\n",
       "</table>\n",
       "</div>"
      ],
      "text/plain": [
       "           price promo_price\n",
       "19316  6.999.003       69.99\n",
       "19317     159.99   1.599.898\n",
       "19318     139.99   1.399.897\n",
       "19319        179   1.699.905\n",
       "19320     149.99   1.499.795\n",
       "19321      29.99     269.903\n",
       "19322      69.95     649.903\n",
       "19323      69.95     649.903\n",
       "19324      69.95     649.903\n",
       "19325      69.95     649.903"
      ]
     },
     "execution_count": 248,
     "metadata": {},
     "output_type": "execute_result"
    }
   ],
   "source": [
    "df_prod_dropped_na[[\"price\", \"promo_price\"]].tail(10)"
   ]
  },
  {
   "cell_type": "markdown",
   "id": "40b0741c-3674-4748-8fbb-c91b2cbd2008",
   "metadata": {},
   "source": [
    "> A similar problem is also present in \"price\" column."
   ]
  },
  {
   "cell_type": "code",
   "execution_count": 249,
   "id": "46521653-64c3-4026-b432-b426073cc4d6",
   "metadata": {},
   "outputs": [
    {
     "data": {
      "text/plain": [
       "377"
      ]
     },
     "execution_count": 249,
     "metadata": {},
     "output_type": "execute_result"
    }
   ],
   "source": [
    "(df_prod_dropped_na['price'].str.count('\\.') > 1).sum()"
   ]
  },
  {
   "cell_type": "code",
   "execution_count": 250,
   "id": "fae82d65-e5cb-4991-8f51-3681cdec7bf0",
   "metadata": {},
   "outputs": [
    {
     "name": "stdout",
     "output_type": "stream",
     "text": [
      "The 2 dot problem represents 3.58% of the rows in the 'price' column.\n"
     ]
    }
   ],
   "source": [
    "two_dot_percentage_price = ((df_prod_dropped_na.price.str.contains(\"\\d+\\.\\d+\\.\\d+\").value_counts()[1] / df_prod_dropped_na.shape[0])*100).round(2)\n",
    "print(f\"The 2 dot problem represents {two_dot_percentage_price}% of the rows in the 'price' column.\")"
   ]
  },
  {
   "cell_type": "markdown",
   "id": "f76f53cc-3bdd-4aaa-a015-ce90d05f3375",
   "metadata": {},
   "source": [
    "> They are not as large portion of the sample. So <u>let's drop</u> the 2 dots occurences from the price column."
   ]
  },
  {
   "cell_type": "code",
   "execution_count": 251,
   "id": "37fcc254-6394-420d-ab41-1e56717a805c",
   "metadata": {},
   "outputs": [
    {
     "data": {
      "text/plain": [
       "(10534, 7)"
      ]
     },
     "execution_count": 251,
     "metadata": {},
     "output_type": "execute_result"
    }
   ],
   "source": [
    "products_cl = df_prod_dropped_na#[~(df_prod_dropped_na['price'].str.count('\\.') > 1)]\n",
    "products_cl.shape"
   ]
  },
  {
   "cell_type": "markdown",
   "id": "a9ff2c71-be2b-42d7-9f4f-a158e07ed5be",
   "metadata": {},
   "source": [
    "### 2.1.3 Now let's fix the promo_price column\n",
    "To do that, we need to make some assumptions as below:\n",
    "\n",
    "> **Assumption 1**: Price column is correct (after dropping 2 dots cases), but promo_price column needs cleaning."
   ]
  },
  {
   "cell_type": "code",
   "execution_count": 252,
   "id": "7f09ad04-8f0f-49d7-89c8-4acbf1d524f2",
   "metadata": {},
   "outputs": [
    {
     "data": {
      "text/html": [
       "<div>\n",
       "<style scoped>\n",
       "    .dataframe tbody tr th:only-of-type {\n",
       "        vertical-align: middle;\n",
       "    }\n",
       "\n",
       "    .dataframe tbody tr th {\n",
       "        vertical-align: top;\n",
       "    }\n",
       "\n",
       "    .dataframe thead th {\n",
       "        text-align: right;\n",
       "    }\n",
       "</style>\n",
       "<table border=\"1\" class=\"dataframe\">\n",
       "  <thead>\n",
       "    <tr style=\"text-align: right;\">\n",
       "      <th></th>\n",
       "      <th>sku</th>\n",
       "      <th>name</th>\n",
       "      <th>desc</th>\n",
       "      <th>price</th>\n",
       "      <th>promo_price</th>\n",
       "      <th>in_stock</th>\n",
       "      <th>type</th>\n",
       "    </tr>\n",
       "  </thead>\n",
       "  <tbody>\n",
       "    <tr>\n",
       "      <th>16114</th>\n",
       "      <td>AP20129</td>\n",
       "      <td>Like new - Apple Lightning to USB 3.0 Adapter</td>\n",
       "      <td>Lightning connector adapter to USB 3.0</td>\n",
       "      <td>45</td>\n",
       "      <td>299.899</td>\n",
       "      <td>0</td>\n",
       "      <td>14365395</td>\n",
       "    </tr>\n",
       "  </tbody>\n",
       "</table>\n",
       "</div>"
      ],
      "text/plain": [
       "           sku                                           name  \\\n",
       "16114  AP20129  Like new - Apple Lightning to USB 3.0 Adapter   \n",
       "\n",
       "                                         desc price promo_price  in_stock  \\\n",
       "16114  Lightning connector adapter to USB 3.0    45     299.899         0   \n",
       "\n",
       "           type  \n",
       "16114  14365395  "
      ]
     },
     "execution_count": 252,
     "metadata": {},
     "output_type": "execute_result"
    }
   ],
   "source": [
    "products_cl.loc[products_cl.name.str.contains(\"Like new - Apple Lightning to USB 3.0 Adapter\")] #.iloc[16114]"
   ]
  },
  {
   "cell_type": "code",
   "execution_count": 253,
   "id": "e3fc9f9e-e9e2-4753-b736-04c5bd115cdb",
   "metadata": {},
   "outputs": [
    {
     "data": {
      "text/html": [
       "<div>\n",
       "<style scoped>\n",
       "    .dataframe tbody tr th:only-of-type {\n",
       "        vertical-align: middle;\n",
       "    }\n",
       "\n",
       "    .dataframe tbody tr th {\n",
       "        vertical-align: top;\n",
       "    }\n",
       "\n",
       "    .dataframe thead th {\n",
       "        text-align: right;\n",
       "    }\n",
       "</style>\n",
       "<table border=\"1\" class=\"dataframe\">\n",
       "  <thead>\n",
       "    <tr style=\"text-align: right;\">\n",
       "      <th></th>\n",
       "      <th>sku</th>\n",
       "      <th>name</th>\n",
       "      <th>desc</th>\n",
       "      <th>price</th>\n",
       "      <th>promo_price</th>\n",
       "      <th>in_stock</th>\n",
       "      <th>type</th>\n",
       "    </tr>\n",
       "  </thead>\n",
       "  <tbody>\n",
       "    <tr>\n",
       "      <th>1782</th>\n",
       "      <td>JMO0071</td>\n",
       "      <td>Just Mobile Support Xtand Go Z1 Car</td>\n",
       "      <td>Car holder with 360 degree rotation for iPhone.</td>\n",
       "      <td>34.95</td>\n",
       "      <td>31.99</td>\n",
       "      <td>0</td>\n",
       "      <td>1216</td>\n",
       "    </tr>\n",
       "  </tbody>\n",
       "</table>\n",
       "</div>"
      ],
      "text/plain": [
       "          sku                                 name  \\\n",
       "1782  JMO0071  Just Mobile Support Xtand Go Z1 Car   \n",
       "\n",
       "                                                 desc  price promo_price  \\\n",
       "1782  Car holder with 360 degree rotation for iPhone.  34.95       31.99   \n",
       "\n",
       "      in_stock  type  \n",
       "1782         0  1216  "
      ]
     },
     "execution_count": 253,
     "metadata": {},
     "output_type": "execute_result"
    }
   ],
   "source": [
    "products_cl.loc[products_cl.name.str.contains(\"Just Mobile Support Xtand Go Z1 Car\")] #iloc[1783]"
   ]
  },
  {
   "cell_type": "markdown",
   "id": "675a9094-9959-4fa8-bf87-21c1c9b4a7c5",
   "metadata": {},
   "source": [
    "As we can see here, the promo_price looks fine in some cases!\n",
    "\n",
    "And in other cases, ....\n",
    "\n",
    "\n",
    "The dot in promo_price looks 1 place right to where it is appropriate (compared to its price). To handle such different cases, we need another assumption with regard to price_promo's relation with price.\n",
    "\n",
    "> **Assumption 2:** promo_price is almost always lower than price --> so that discounts are non-negative"
   ]
  },
  {
   "cell_type": "code",
   "execution_count": 254,
   "id": "91793bf5-9ac1-4f12-8cee-f6a00dd44021",
   "metadata": {},
   "outputs": [],
   "source": [
    "### Write a function to drop the second \".\" occurrence from the promo_price column"
   ]
  },
  {
   "cell_type": "code",
   "execution_count": 255,
   "id": "6287f401-df1e-4778-95e2-374a60f51a0c",
   "metadata": {},
   "outputs": [],
   "source": [
    "def replace_second_dot(value):\n",
    "    if isinstance(value, str):\n",
    "        first_dot_index = value.find('.')\n",
    "        second_dot_index = value.find('.', first_dot_index + 1)\n",
    "\n",
    "        if second_dot_index != -1:\n",
    "            return value[:first_dot_index] + value[first_dot_index:second_dot_index].replace('.', '') + value[second_dot_index:]\n",
    "        else:\n",
    "            return value\n",
    "    else:\n",
    "        return value"
   ]
  },
  {
   "cell_type": "code",
   "execution_count": 256,
   "id": "6ec47721-6e4a-4b45-a5c8-78affadd09ab",
   "metadata": {},
   "outputs": [
    {
     "data": {
      "text/html": [
       "<div>\n",
       "<style scoped>\n",
       "    .dataframe tbody tr th:only-of-type {\n",
       "        vertical-align: middle;\n",
       "    }\n",
       "\n",
       "    .dataframe tbody tr th {\n",
       "        vertical-align: top;\n",
       "    }\n",
       "\n",
       "    .dataframe thead th {\n",
       "        text-align: right;\n",
       "    }\n",
       "</style>\n",
       "<table border=\"1\" class=\"dataframe\">\n",
       "  <thead>\n",
       "    <tr style=\"text-align: right;\">\n",
       "      <th></th>\n",
       "      <th>sku</th>\n",
       "      <th>name</th>\n",
       "      <th>desc</th>\n",
       "      <th>price</th>\n",
       "      <th>promo_price</th>\n",
       "      <th>in_stock</th>\n",
       "      <th>type</th>\n",
       "      <th>mod_price</th>\n",
       "      <th>mod_promo_price</th>\n",
       "      <th>discount</th>\n",
       "      <th>discount_share</th>\n",
       "    </tr>\n",
       "  </thead>\n",
       "  <tbody>\n",
       "    <tr>\n",
       "      <th>0</th>\n",
       "      <td>RAI0007</td>\n",
       "      <td>Silver Rain Design mStand Support</td>\n",
       "      <td>Aluminum support compatible with all MacBook</td>\n",
       "      <td>59.99</td>\n",
       "      <td>499.899</td>\n",
       "      <td>1</td>\n",
       "      <td>8696</td>\n",
       "      <td>59.99</td>\n",
       "      <td>499.90</td>\n",
       "      <td>-439.91</td>\n",
       "      <td>-733.30</td>\n",
       "    </tr>\n",
       "    <tr>\n",
       "      <th>1</th>\n",
       "      <td>APP0023</td>\n",
       "      <td>Apple Mac Keyboard Keypad Spanish</td>\n",
       "      <td>USB ultrathin keyboard Apple Mac Spanish.</td>\n",
       "      <td>59</td>\n",
       "      <td>589.996</td>\n",
       "      <td>0</td>\n",
       "      <td>13855401</td>\n",
       "      <td>59.00</td>\n",
       "      <td>590.00</td>\n",
       "      <td>-531.00</td>\n",
       "      <td>-899.99</td>\n",
       "    </tr>\n",
       "    <tr>\n",
       "      <th>2</th>\n",
       "      <td>APP0025</td>\n",
       "      <td>Mighty Mouse Apple Mouse for Mac</td>\n",
       "      <td>mouse Apple USB cable.</td>\n",
       "      <td>59</td>\n",
       "      <td>569.898</td>\n",
       "      <td>0</td>\n",
       "      <td>1387</td>\n",
       "      <td>59.00</td>\n",
       "      <td>569.90</td>\n",
       "      <td>-510.90</td>\n",
       "      <td>-865.93</td>\n",
       "    </tr>\n",
       "    <tr>\n",
       "      <th>3</th>\n",
       "      <td>APP0072</td>\n",
       "      <td>Apple Dock to USB Cable iPhone and iPod white</td>\n",
       "      <td>IPhone dock and USB Cable Apple iPod.</td>\n",
       "      <td>25</td>\n",
       "      <td>229.997</td>\n",
       "      <td>0</td>\n",
       "      <td>1230</td>\n",
       "      <td>25.00</td>\n",
       "      <td>230.00</td>\n",
       "      <td>-205.00</td>\n",
       "      <td>-819.99</td>\n",
       "    </tr>\n",
       "    <tr>\n",
       "      <th>4</th>\n",
       "      <td>KIN0007</td>\n",
       "      <td>Mac Memory Kingston 2GB 667MHz DDR2 SO-DIMM</td>\n",
       "      <td>2GB RAM Mac mini and iMac (2006/07) MacBook Pr...</td>\n",
       "      <td>34.99</td>\n",
       "      <td>31.99</td>\n",
       "      <td>1</td>\n",
       "      <td>1364</td>\n",
       "      <td>34.99</td>\n",
       "      <td>31.99</td>\n",
       "      <td>3.00</td>\n",
       "      <td>8.57</td>\n",
       "    </tr>\n",
       "  </tbody>\n",
       "</table>\n",
       "</div>"
      ],
      "text/plain": [
       "       sku                                           name  \\\n",
       "0  RAI0007              Silver Rain Design mStand Support   \n",
       "1  APP0023              Apple Mac Keyboard Keypad Spanish   \n",
       "2  APP0025               Mighty Mouse Apple Mouse for Mac   \n",
       "3  APP0072  Apple Dock to USB Cable iPhone and iPod white   \n",
       "4  KIN0007    Mac Memory Kingston 2GB 667MHz DDR2 SO-DIMM   \n",
       "\n",
       "                                                desc  price promo_price  \\\n",
       "0       Aluminum support compatible with all MacBook  59.99     499.899   \n",
       "1          USB ultrathin keyboard Apple Mac Spanish.     59     589.996   \n",
       "2                             mouse Apple USB cable.     59     569.898   \n",
       "3              IPhone dock and USB Cable Apple iPod.     25     229.997   \n",
       "4  2GB RAM Mac mini and iMac (2006/07) MacBook Pr...  34.99       31.99   \n",
       "\n",
       "   in_stock      type  mod_price  mod_promo_price  discount  discount_share  \n",
       "0         1      8696      59.99           499.90   -439.91         -733.30  \n",
       "1         0  13855401      59.00           590.00   -531.00         -899.99  \n",
       "2         0      1387      59.00           569.90   -510.90         -865.93  \n",
       "3         0      1230      25.00           230.00   -205.00         -819.99  \n",
       "4         1      1364      34.99            31.99      3.00            8.57  "
      ]
     },
     "execution_count": 256,
     "metadata": {},
     "output_type": "execute_result"
    }
   ],
   "source": [
    "# Create a discount column\n",
    "\n",
    "# Convert price column to numeric\n",
    "products_cl['mod_price'] = pd.to_numeric(products_cl['price'], errors='coerce', downcast='float')\n",
    "\n",
    "# Drop the second occurrence of \"dots\"\n",
    "products_cl['mod_promo_price'] = pd.to_numeric(products_cl['promo_price'].apply(replace_second_dot), errors='coerce', downcast='float')\n",
    "\n",
    "# Create the \"discount\" column\n",
    "products_cl[\"discount\"] = products_cl[\"mod_price\"] - products_cl[\"mod_promo_price\"]\n",
    "products_cl[\"discount_share\"] = products_cl[\"discount\"] * 100 / products_cl[\"mod_price\"]\n",
    "products_cl.head()"
   ]
  },
  {
   "cell_type": "markdown",
   "id": "f7f8dab2-f69e-4be6-aa7f-dcb1ab7ae7cd",
   "metadata": {},
   "source": [
    "### 2.1.4 Modify promo_price so that discounts are non-negative (Assumption 2)"
   ]
  },
  {
   "cell_type": "code",
   "execution_count": 257,
   "id": "baae7f35-9727-491c-8b97-23295636e815",
   "metadata": {},
   "outputs": [],
   "source": [
    "# Write the condition as \"threshold\"\n",
    "threshold = products_cl[\"discount\"] < -1\n",
    "\n",
    "# Modify promo_price as long as the threshold holds\n",
    "products_cl['mod_promo_price'] = np.where(threshold, products_cl['mod_promo_price'] / 10, products_cl['mod_promo_price'])\n",
    "\n",
    "# Update discount column\n",
    "products_cl[\"discount\"] = products_cl[\"mod_price\"] - products_cl[\"mod_promo_price\"]\n",
    "\n",
    "# Update discount_share columns\n",
    "products_cl[\"discount_share\"] = products_cl[\"discount\"] * 100 / products_cl[\"mod_price\"]"
   ]
  },
  {
   "cell_type": "code",
   "execution_count": 258,
   "id": "68b96158-3de1-4c85-a80f-341736d37812",
   "metadata": {},
   "outputs": [
    {
     "data": {
      "text/html": [
       "<div>\n",
       "<style scoped>\n",
       "    .dataframe tbody tr th:only-of-type {\n",
       "        vertical-align: middle;\n",
       "    }\n",
       "\n",
       "    .dataframe tbody tr th {\n",
       "        vertical-align: top;\n",
       "    }\n",
       "\n",
       "    .dataframe thead th {\n",
       "        text-align: right;\n",
       "    }\n",
       "</style>\n",
       "<table border=\"1\" class=\"dataframe\">\n",
       "  <thead>\n",
       "    <tr style=\"text-align: right;\">\n",
       "      <th></th>\n",
       "      <th>price</th>\n",
       "      <th>mod_price</th>\n",
       "      <th>promo_price</th>\n",
       "      <th>mod_promo_price</th>\n",
       "      <th>discount</th>\n",
       "      <th>discount_share</th>\n",
       "    </tr>\n",
       "  </thead>\n",
       "  <tbody>\n",
       "    <tr>\n",
       "      <th>50</th>\n",
       "      <td>119</td>\n",
       "      <td>119.00</td>\n",
       "      <td>1.119.976</td>\n",
       "      <td>112.00</td>\n",
       "      <td>7.00</td>\n",
       "      <td>5.88</td>\n",
       "    </tr>\n",
       "    <tr>\n",
       "      <th>51</th>\n",
       "      <td>1149</td>\n",
       "      <td>1149.00</td>\n",
       "      <td>10.449.923</td>\n",
       "      <td>1044.99</td>\n",
       "      <td>104.01</td>\n",
       "      <td>9.05</td>\n",
       "    </tr>\n",
       "    <tr>\n",
       "      <th>66</th>\n",
       "      <td>120</td>\n",
       "      <td>120.00</td>\n",
       "      <td>1.199.957</td>\n",
       "      <td>120.00</td>\n",
       "      <td>0.00</td>\n",
       "      <td>0.00</td>\n",
       "    </tr>\n",
       "    <tr>\n",
       "      <th>67</th>\n",
       "      <td>120</td>\n",
       "      <td>120.00</td>\n",
       "      <td>1.079.961</td>\n",
       "      <td>108.00</td>\n",
       "      <td>12.00</td>\n",
       "      <td>10.00</td>\n",
       "    </tr>\n",
       "    <tr>\n",
       "      <th>97</th>\n",
       "      <td>164.99</td>\n",
       "      <td>164.99</td>\n",
       "      <td>1.649.896</td>\n",
       "      <td>164.99</td>\n",
       "      <td>0.00</td>\n",
       "      <td>0.00</td>\n",
       "    </tr>\n",
       "    <tr>\n",
       "      <th>...</th>\n",
       "      <td>...</td>\n",
       "      <td>...</td>\n",
       "      <td>...</td>\n",
       "      <td>...</td>\n",
       "      <td>...</td>\n",
       "      <td>...</td>\n",
       "    </tr>\n",
       "    <tr>\n",
       "      <th>19300</th>\n",
       "      <td>119.99</td>\n",
       "      <td>119.99</td>\n",
       "      <td>1.199.897</td>\n",
       "      <td>119.99</td>\n",
       "      <td>0.00</td>\n",
       "      <td>0.00</td>\n",
       "    </tr>\n",
       "    <tr>\n",
       "      <th>19317</th>\n",
       "      <td>159.99</td>\n",
       "      <td>159.99</td>\n",
       "      <td>1.599.898</td>\n",
       "      <td>159.99</td>\n",
       "      <td>0.00</td>\n",
       "      <td>0.00</td>\n",
       "    </tr>\n",
       "    <tr>\n",
       "      <th>19318</th>\n",
       "      <td>139.99</td>\n",
       "      <td>139.99</td>\n",
       "      <td>1.399.897</td>\n",
       "      <td>139.99</td>\n",
       "      <td>0.00</td>\n",
       "      <td>0.00</td>\n",
       "    </tr>\n",
       "    <tr>\n",
       "      <th>19319</th>\n",
       "      <td>179</td>\n",
       "      <td>179.00</td>\n",
       "      <td>1.699.905</td>\n",
       "      <td>169.99</td>\n",
       "      <td>9.01</td>\n",
       "      <td>5.03</td>\n",
       "    </tr>\n",
       "    <tr>\n",
       "      <th>19320</th>\n",
       "      <td>149.99</td>\n",
       "      <td>149.99</td>\n",
       "      <td>1.499.795</td>\n",
       "      <td>149.98</td>\n",
       "      <td>0.01</td>\n",
       "      <td>0.01</td>\n",
       "    </tr>\n",
       "  </tbody>\n",
       "</table>\n",
       "<p>4597 rows × 6 columns</p>\n",
       "</div>"
      ],
      "text/plain": [
       "        price  mod_price promo_price  mod_promo_price  discount  \\\n",
       "50        119     119.00   1.119.976           112.00      7.00   \n",
       "51       1149    1149.00  10.449.923          1044.99    104.01   \n",
       "66        120     120.00   1.199.957           120.00      0.00   \n",
       "67        120     120.00   1.079.961           108.00     12.00   \n",
       "97     164.99     164.99   1.649.896           164.99      0.00   \n",
       "...       ...        ...         ...              ...       ...   \n",
       "19300  119.99     119.99   1.199.897           119.99      0.00   \n",
       "19317  159.99     159.99   1.599.898           159.99      0.00   \n",
       "19318  139.99     139.99   1.399.897           139.99      0.00   \n",
       "19319     179     179.00   1.699.905           169.99      9.01   \n",
       "19320  149.99     149.99   1.499.795           149.98      0.01   \n",
       "\n",
       "       discount_share  \n",
       "50               5.88  \n",
       "51               9.05  \n",
       "66               0.00  \n",
       "67              10.00  \n",
       "97               0.00  \n",
       "...               ...  \n",
       "19300            0.00  \n",
       "19317            0.00  \n",
       "19318            0.00  \n",
       "19319            5.03  \n",
       "19320            0.01  \n",
       "\n",
       "[4597 rows x 6 columns]"
      ]
     },
     "execution_count": 258,
     "metadata": {},
     "output_type": "execute_result"
    }
   ],
   "source": [
    "products_cl.loc[(products_cl['promo_price'].str.count('\\.') > 1), ['price', 'mod_price', \"promo_price\", 'mod_promo_price', 'discount', 'discount_share']]"
   ]
  },
  {
   "cell_type": "code",
   "execution_count": 259,
   "id": "930c18d9-0f24-4f27-bc2c-a26cce7e577a",
   "metadata": {},
   "outputs": [
    {
     "data": {
      "text/plain": [
       "117"
      ]
     },
     "execution_count": 259,
     "metadata": {},
     "output_type": "execute_result"
    }
   ],
   "source": [
    "len(products_cl.loc[(products_cl['discount']<-1), ['price', 'mod_price', \"promo_price\", 'mod_promo_price', 'discount', 'discount_share']])"
   ]
  },
  {
   "cell_type": "code",
   "execution_count": 260,
   "id": "579b03c5-1563-4169-92ca-510fddd1475b",
   "metadata": {},
   "outputs": [
    {
     "data": {
      "text/plain": [
       "count   10157.00\n",
       "mean       86.04\n",
       "std       181.44\n",
       "min      -192.80\n",
       "25%         5.00\n",
       "50%        17.00\n",
       "75%        76.86\n",
       "max      2518.54\n",
       "Name: discount, dtype: float64"
      ]
     },
     "execution_count": 260,
     "metadata": {},
     "output_type": "execute_result"
    }
   ],
   "source": [
    "products_cl[\"discount\"].describe()"
   ]
  },
  {
   "cell_type": "markdown",
   "id": "2a8f20e3-70e8-4644-9532-32c8a5135f5a",
   "metadata": {},
   "source": [
    "### 2.1.5 Drop outliers from discount column"
   ]
  },
  {
   "cell_type": "code",
   "execution_count": 261,
   "id": "96cae3cf-d91f-4d42-bc74-a09c11c73ecf",
   "metadata": {},
   "outputs": [
    {
     "data": {
      "text/plain": [
       "count   8851.00\n",
       "mean      30.95\n",
       "std       42.13\n",
       "min      -77.06\n",
       "25%        4.20\n",
       "50%       12.91\n",
       "75%       37.75\n",
       "max      184.58\n",
       "Name: discount, dtype: float64"
      ]
     },
     "execution_count": 261,
     "metadata": {},
     "output_type": "execute_result"
    }
   ],
   "source": [
    "# calculate the quartiles\n",
    "Q1 = products_cl[\"discount\"].quantile(0.25)\n",
    "Q3 = products_cl[\"discount\"].quantile(0.75)\n",
    "\n",
    "# calculate the interquartile range\n",
    "IQR = Q3-Q1\n",
    "\n",
    "# filter the DataFrame to include only \"non-outliers\"\n",
    "products_cl = products_cl.loc[(products_cl[\"discount\"] >= (Q1 - 1.5*IQR)) & (products_cl[\"discount\"] <= (Q3 + 1.5*IQR)), :]\n",
    "products_cl[\"discount\"].describe()"
   ]
  },
  {
   "cell_type": "code",
   "execution_count": 262,
   "id": "fde34e22-9edc-4ed8-8faa-b8f3abbf07a5",
   "metadata": {},
   "outputs": [
    {
     "data": {
      "text/plain": [
       "(111, 11)"
      ]
     },
     "execution_count": 262,
     "metadata": {},
     "output_type": "execute_result"
    }
   ],
   "source": [
    "products_cl.loc[products_cl[\"discount\"]<-1].shape"
   ]
  },
  {
   "cell_type": "code",
   "execution_count": 263,
   "id": "bd491acc-a14a-4595-b302-d0735d69b2e3",
   "metadata": {},
   "outputs": [
    {
     "data": {
      "text/plain": [
       "count   8740.00\n",
       "mean      31.44\n",
       "std       42.14\n",
       "min       -1.00\n",
       "25%        4.96\n",
       "50%       13.00\n",
       "75%       38.72\n",
       "max      184.58\n",
       "Name: discount, dtype: float64"
      ]
     },
     "execution_count": 263,
     "metadata": {},
     "output_type": "execute_result"
    }
   ],
   "source": [
    "# Following assumption 2, lets drop products with negative discounts\n",
    "products_cl=products_cl.loc[~(products_cl[\"discount\"]<-1)]\n",
    "products_cl[\"discount\"].describe()"
   ]
  },
  {
   "cell_type": "code",
   "execution_count": 264,
   "id": "4ec390a7-fa99-4ab5-957f-9c67d81d433c",
   "metadata": {},
   "outputs": [],
   "source": [
    "# Save file as csv\n",
    "products_cl.to_csv(\"Cleaned_data/products_cleaned.csv\", index=False)"
   ]
  },
  {
   "cell_type": "markdown",
   "id": "a8558966-1c34-42ee-acf1-bceee4bedf5b",
   "metadata": {},
   "source": [
    "## 2.2 Orders dataframe"
   ]
  },
  {
   "cell_type": "code",
   "execution_count": 265,
   "id": "bfb574ef-3376-4edb-ac25-df3349223650",
   "metadata": {},
   "outputs": [
    {
     "name": "stdout",
     "output_type": "stream",
     "text": [
      "<class 'pandas.core.frame.DataFrame'>\n",
      "RangeIndex: 226909 entries, 0 to 226908\n",
      "Data columns (total 4 columns):\n",
      " #   Column        Non-Null Count   Dtype  \n",
      "---  ------        --------------   -----  \n",
      " 0   order_id      226909 non-null  int64  \n",
      " 1   created_date  226909 non-null  object \n",
      " 2   total_paid    226904 non-null  float64\n",
      " 3   state         226909 non-null  object \n",
      "dtypes: float64(1), int64(1), object(2)\n",
      "memory usage: 6.9+ MB\n"
     ]
    }
   ],
   "source": [
    "# Let's first visualize column data types and missing values\n",
    "df_ord.info()"
   ]
  },
  {
   "cell_type": "code",
   "execution_count": 266,
   "id": "b2d444b7-b188-4de3-b406-295238a9fa1e",
   "metadata": {},
   "outputs": [
    {
     "name": "stdout",
     "output_type": "stream",
     "text": [
      "<class 'pandas.core.frame.DataFrame'>\n",
      "RangeIndex: 226909 entries, 0 to 226908\n",
      "Data columns (total 4 columns):\n",
      " #   Column        Non-Null Count   Dtype         \n",
      "---  ------        --------------   -----         \n",
      " 0   order_id      226909 non-null  int64         \n",
      " 1   created_date  226909 non-null  datetime64[ns]\n",
      " 2   total_paid    226904 non-null  float64       \n",
      " 3   state         226909 non-null  object        \n",
      "dtypes: datetime64[ns](1), float64(1), int64(1), object(1)\n",
      "memory usage: 6.9+ MB\n"
     ]
    }
   ],
   "source": [
    "df_ord[\"created_date\"]=pd.to_datetime(df_ord[\"created_date\"])\n",
    "df_ord.info()"
   ]
  },
  {
   "cell_type": "code",
   "execution_count": 267,
   "id": "49fcb040-26b3-42ef-8ba7-1d7f5b0083dd",
   "metadata": {},
   "outputs": [
    {
     "name": "stdout",
     "output_type": "stream",
     "text": [
      "This dataframe has the following num of duplicates:  0\n"
     ]
    }
   ],
   "source": [
    "print(\"This dataframe has the following num of duplicates: \", len(df_ord)-len(df_ord.drop_duplicates()))"
   ]
  },
  {
   "cell_type": "code",
   "execution_count": 268,
   "id": "a78241fb-492b-48c5-8daa-80ee023bcc2e",
   "metadata": {},
   "outputs": [
    {
     "name": "stdout",
     "output_type": "stream",
     "text": [
      "This dataframe has the following missing values:  order_id        0\n",
      "created_date    0\n",
      "total_paid      5\n",
      "state           0\n",
      "dtype: int64\n"
     ]
    }
   ],
   "source": [
    "print(\"This dataframe has the following missing values: \", df_ord.isna().sum())"
   ]
  },
  {
   "cell_type": "code",
   "execution_count": 269,
   "id": "7890cb0b-d54b-4788-a3b2-54d47cf6ac79",
   "metadata": {},
   "outputs": [
    {
     "data": {
      "text/plain": [
       "order_id        0\n",
       "created_date    0\n",
       "total_paid      0\n",
       "state           0\n",
       "dtype: int64"
      ]
     },
     "execution_count": 269,
     "metadata": {},
     "output_type": "execute_result"
    }
   ],
   "source": [
    "orders_cl=df_ord.dropna()\n",
    "orders_cl.isna().sum()"
   ]
  },
  {
   "cell_type": "code",
   "execution_count": 270,
   "id": "16cc8a66-b75e-418b-9523-8264a7e0538a",
   "metadata": {},
   "outputs": [],
   "source": [
    "orders_cl.to_csv(\"Cleaned_data/orders_cleaned.csv\", index=False)"
   ]
  },
  {
   "cell_type": "markdown",
   "id": "91ad0574-26b1-4e0d-a8ca-e9c5d4faf401",
   "metadata": {},
   "source": [
    "## 2.3 Orderlines dataframe"
   ]
  },
  {
   "cell_type": "code",
   "execution_count": 271,
   "id": "6fef24c1-aa01-4f37-9d1c-7bc1bdd27353",
   "metadata": {},
   "outputs": [
    {
     "name": "stdout",
     "output_type": "stream",
     "text": [
      "<class 'pandas.core.frame.DataFrame'>\n",
      "RangeIndex: 293983 entries, 0 to 293982\n",
      "Data columns (total 7 columns):\n",
      " #   Column            Non-Null Count   Dtype \n",
      "---  ------            --------------   ----- \n",
      " 0   id                293983 non-null  int64 \n",
      " 1   id_order          293983 non-null  int64 \n",
      " 2   product_id        293983 non-null  int64 \n",
      " 3   product_quantity  293983 non-null  int64 \n",
      " 4   sku               293983 non-null  object\n",
      " 5   unit_price        293983 non-null  object\n",
      " 6   date              293983 non-null  object\n",
      "dtypes: int64(4), object(3)\n",
      "memory usage: 15.7+ MB\n"
     ]
    }
   ],
   "source": [
    "# Let's first visualize column data types and missing values\n",
    "df_orderlines.info()"
   ]
  },
  {
   "cell_type": "code",
   "execution_count": 272,
   "id": "730df87f-ced7-4fb7-aa70-ee1a1fcbcaaa",
   "metadata": {},
   "outputs": [
    {
     "name": "stdout",
     "output_type": "stream",
     "text": [
      "<class 'pandas.core.frame.DataFrame'>\n",
      "RangeIndex: 293983 entries, 0 to 293982\n",
      "Data columns (total 7 columns):\n",
      " #   Column            Non-Null Count   Dtype         \n",
      "---  ------            --------------   -----         \n",
      " 0   id                293983 non-null  int64         \n",
      " 1   id_order          293983 non-null  int64         \n",
      " 2   product_id        293983 non-null  int64         \n",
      " 3   product_quantity  293983 non-null  int64         \n",
      " 4   sku               293983 non-null  object        \n",
      " 5   unit_price        293983 non-null  object        \n",
      " 6   date              293983 non-null  datetime64[ns]\n",
      "dtypes: datetime64[ns](1), int64(4), object(2)\n",
      "memory usage: 15.7+ MB\n"
     ]
    }
   ],
   "source": [
    "df_orderlines[\"date\"]=pd.to_datetime(df_orderlines[\"date\"])\n",
    "df_orderlines.info()"
   ]
  },
  {
   "cell_type": "code",
   "execution_count": 273,
   "id": "54a9e4f9-9dfd-4225-b75f-359e34256513",
   "metadata": {},
   "outputs": [
    {
     "name": "stdout",
     "output_type": "stream",
     "text": [
      "This dataframe has the following num of duplicates:  0\n"
     ]
    }
   ],
   "source": [
    "print(\"This dataframe has the following num of duplicates: \",len(df_orderlines)-len(df_orderlines.drop_duplicates()))"
   ]
  },
  {
   "cell_type": "code",
   "execution_count": 274,
   "id": "036c4b0d-7474-44fe-a5ed-35c8dcd53f5c",
   "metadata": {},
   "outputs": [
    {
     "name": "stdout",
     "output_type": "stream",
     "text": [
      "This dataframe has the following missing values:  id                  0\n",
      "id_order            0\n",
      "product_id          0\n",
      "product_quantity    0\n",
      "sku                 0\n",
      "unit_price          0\n",
      "date                0\n",
      "dtype: int64\n"
     ]
    }
   ],
   "source": [
    "print(\"This dataframe has the following missing values: \", df_orderlines.isna().sum())"
   ]
  },
  {
   "cell_type": "code",
   "execution_count": 275,
   "id": "cafbcf39-a8e4-4c65-bffd-4fe9577ab728",
   "metadata": {},
   "outputs": [
    {
     "data": {
      "text/html": [
       "<div>\n",
       "<style scoped>\n",
       "    .dataframe tbody tr th:only-of-type {\n",
       "        vertical-align: middle;\n",
       "    }\n",
       "\n",
       "    .dataframe tbody tr th {\n",
       "        vertical-align: top;\n",
       "    }\n",
       "\n",
       "    .dataframe thead th {\n",
       "        text-align: right;\n",
       "    }\n",
       "</style>\n",
       "<table border=\"1\" class=\"dataframe\">\n",
       "  <thead>\n",
       "    <tr style=\"text-align: right;\">\n",
       "      <th></th>\n",
       "      <th>id</th>\n",
       "      <th>id_order</th>\n",
       "      <th>product_id</th>\n",
       "      <th>product_quantity</th>\n",
       "      <th>sku</th>\n",
       "      <th>unit_price</th>\n",
       "      <th>date</th>\n",
       "    </tr>\n",
       "  </thead>\n",
       "  <tbody>\n",
       "    <tr>\n",
       "      <th>6</th>\n",
       "      <td>1119115</td>\n",
       "      <td>299544</td>\n",
       "      <td>0</td>\n",
       "      <td>1</td>\n",
       "      <td>APP1582</td>\n",
       "      <td>1.137.99</td>\n",
       "      <td>2017-01-01 01:17:21</td>\n",
       "    </tr>\n",
       "    <tr>\n",
       "      <th>11</th>\n",
       "      <td>1119126</td>\n",
       "      <td>299549</td>\n",
       "      <td>0</td>\n",
       "      <td>1</td>\n",
       "      <td>PAC0929</td>\n",
       "      <td>2.565.99</td>\n",
       "      <td>2017-01-01 02:07:42</td>\n",
       "    </tr>\n",
       "    <tr>\n",
       "      <th>15</th>\n",
       "      <td>1119131</td>\n",
       "      <td>299553</td>\n",
       "      <td>0</td>\n",
       "      <td>1</td>\n",
       "      <td>APP1854</td>\n",
       "      <td>3.278.99</td>\n",
       "      <td>2017-01-01 02:14:47</td>\n",
       "    </tr>\n",
       "    <tr>\n",
       "      <th>43</th>\n",
       "      <td>1119195</td>\n",
       "      <td>299582</td>\n",
       "      <td>0</td>\n",
       "      <td>1</td>\n",
       "      <td>PAC0961</td>\n",
       "      <td>2.616.99</td>\n",
       "      <td>2017-01-01 08:54:00</td>\n",
       "    </tr>\n",
       "    <tr>\n",
       "      <th>59</th>\n",
       "      <td>1119214</td>\n",
       "      <td>299596</td>\n",
       "      <td>0</td>\n",
       "      <td>1</td>\n",
       "      <td>PAC1599</td>\n",
       "      <td>2.873.99</td>\n",
       "      <td>2017-01-01 09:53:11</td>\n",
       "    </tr>\n",
       "    <tr>\n",
       "      <th>...</th>\n",
       "      <td>...</td>\n",
       "      <td>...</td>\n",
       "      <td>...</td>\n",
       "      <td>...</td>\n",
       "      <td>...</td>\n",
       "      <td>...</td>\n",
       "      <td>...</td>\n",
       "    </tr>\n",
       "    <tr>\n",
       "      <th>293862</th>\n",
       "      <td>1649999</td>\n",
       "      <td>452946</td>\n",
       "      <td>0</td>\n",
       "      <td>1</td>\n",
       "      <td>APP2075</td>\n",
       "      <td>2.999.00</td>\n",
       "      <td>2018-03-14 13:03:33</td>\n",
       "    </tr>\n",
       "    <tr>\n",
       "      <th>293887</th>\n",
       "      <td>1650045</td>\n",
       "      <td>527321</td>\n",
       "      <td>0</td>\n",
       "      <td>1</td>\n",
       "      <td>PAC2148</td>\n",
       "      <td>3.497.00</td>\n",
       "      <td>2018-03-14 13:10:15</td>\n",
       "    </tr>\n",
       "    <tr>\n",
       "      <th>293889</th>\n",
       "      <td>1650050</td>\n",
       "      <td>527324</td>\n",
       "      <td>0</td>\n",
       "      <td>1</td>\n",
       "      <td>PAC2117</td>\n",
       "      <td>3.075.00</td>\n",
       "      <td>2018-03-14 13:10:56</td>\n",
       "    </tr>\n",
       "    <tr>\n",
       "      <th>293911</th>\n",
       "      <td>1650088</td>\n",
       "      <td>527342</td>\n",
       "      <td>0</td>\n",
       "      <td>1</td>\n",
       "      <td>APP2492</td>\n",
       "      <td>1.329.00</td>\n",
       "      <td>2018-03-14 13:24:51</td>\n",
       "    </tr>\n",
       "    <tr>\n",
       "      <th>293936</th>\n",
       "      <td>1650135</td>\n",
       "      <td>527364</td>\n",
       "      <td>0</td>\n",
       "      <td>1</td>\n",
       "      <td>APP2491</td>\n",
       "      <td>1.329.00</td>\n",
       "      <td>2018-03-14 13:36:13</td>\n",
       "    </tr>\n",
       "  </tbody>\n",
       "</table>\n",
       "<p>36169 rows × 7 columns</p>\n",
       "</div>"
      ],
      "text/plain": [
       "             id  id_order  product_id  product_quantity      sku unit_price  \\\n",
       "6       1119115    299544           0                 1  APP1582   1.137.99   \n",
       "11      1119126    299549           0                 1  PAC0929   2.565.99   \n",
       "15      1119131    299553           0                 1  APP1854   3.278.99   \n",
       "43      1119195    299582           0                 1  PAC0961   2.616.99   \n",
       "59      1119214    299596           0                 1  PAC1599   2.873.99   \n",
       "...         ...       ...         ...               ...      ...        ...   \n",
       "293862  1649999    452946           0                 1  APP2075   2.999.00   \n",
       "293887  1650045    527321           0                 1  PAC2148   3.497.00   \n",
       "293889  1650050    527324           0                 1  PAC2117   3.075.00   \n",
       "293911  1650088    527342           0                 1  APP2492   1.329.00   \n",
       "293936  1650135    527364           0                 1  APP2491   1.329.00   \n",
       "\n",
       "                      date  \n",
       "6      2017-01-01 01:17:21  \n",
       "11     2017-01-01 02:07:42  \n",
       "15     2017-01-01 02:14:47  \n",
       "43     2017-01-01 08:54:00  \n",
       "59     2017-01-01 09:53:11  \n",
       "...                    ...  \n",
       "293862 2018-03-14 13:03:33  \n",
       "293887 2018-03-14 13:10:15  \n",
       "293889 2018-03-14 13:10:56  \n",
       "293911 2018-03-14 13:24:51  \n",
       "293936 2018-03-14 13:36:13  \n",
       "\n",
       "[36169 rows x 7 columns]"
      ]
     },
     "execution_count": 275,
     "metadata": {},
     "output_type": "execute_result"
    }
   ],
   "source": [
    "df_orderlines.loc[(df_orderlines['unit_price'].str.count('\\.') > 1), :]"
   ]
  },
  {
   "cell_type": "code",
   "execution_count": 276,
   "id": "b61fc2c8-684c-422a-9e1d-9e498664daaa",
   "metadata": {},
   "outputs": [
    {
     "name": "stdout",
     "output_type": "stream",
     "text": [
      "The 2 dot problem represents 12.3% of the rows in our DataFrame\n"
     ]
    },
    {
     "data": {
      "text/plain": [
       "216250"
      ]
     },
     "execution_count": 276,
     "metadata": {},
     "output_type": "execute_result"
    }
   ],
   "source": [
    "two_dot_percentage = ((df_orderlines.unit_price.str.contains(\"\\d+\\.\\d+\\.\\d+\").value_counts()[1] / df_orderlines.shape[0])*100).round(2)\n",
    "print(f\"The 2 dot problem represents {two_dot_percentage}% of the rows in our DataFrame\")\n",
    "\n",
    "two_dot_order_ids_list = df_orderlines.loc[df_orderlines.unit_price.str.contains(\"\\d+\\.\\d+\\.\\d+\"), \"id_order\"]\n",
    "orderlines_cl = df_orderlines.loc[~df_orderlines.id_order.isin(two_dot_order_ids_list)]\n",
    "\n",
    "orderlines_cl.shape[0]"
   ]
  },
  {
   "cell_type": "code",
   "execution_count": 277,
   "id": "119f7d82-2965-48ea-a5b0-f04f88530bdb",
   "metadata": {},
   "outputs": [
    {
     "data": {
      "text/plain": [
       "216248"
      ]
     },
     "execution_count": 277,
     "metadata": {},
     "output_type": "execute_result"
    }
   ],
   "source": [
    "# drop\n",
    "orderlines_cl['unit_price'] = pd.to_numeric(orderlines_cl['unit_price'], errors='coerce', downcast='float')\n",
    "orderlines_cl = orderlines_cl[~orderlines_cl['id_order'].isin(orderlines_cl.loc[orderlines_cl['unit_price'] < 0, 'id_order'])]\n",
    "orderlines_cl.shape[0]"
   ]
  },
  {
   "cell_type": "code",
   "execution_count": null,
   "id": "2b17bd92-bd15-4270-a6f5-dcefe21749d6",
   "metadata": {},
   "outputs": [],
   "source": []
  },
  {
   "cell_type": "code",
   "execution_count": 278,
   "id": "bac3a63e-a226-4740-ad52-b79652aa917c",
   "metadata": {},
   "outputs": [],
   "source": [
    "orderlines_cl.to_csv(\"Cleaned_data/orderlines_cleaned.csv\", index=False)"
   ]
  },
  {
   "cell_type": "markdown",
   "id": "7993626b-44ec-4ef6-94ff-6e3960846ae7",
   "metadata": {},
   "source": [
    "## 2.4 Brands dataframe"
   ]
  },
  {
   "cell_type": "code",
   "execution_count": 279,
   "id": "5ec467c2-cbe1-4a41-8f83-ade8300c82c5",
   "metadata": {},
   "outputs": [
    {
     "name": "stdout",
     "output_type": "stream",
     "text": [
      "<class 'pandas.core.frame.DataFrame'>\n",
      "RangeIndex: 187 entries, 0 to 186\n",
      "Data columns (total 2 columns):\n",
      " #   Column  Non-Null Count  Dtype \n",
      "---  ------  --------------  ----- \n",
      " 0   short   187 non-null    object\n",
      " 1   long    187 non-null    object\n",
      "dtypes: object(2)\n",
      "memory usage: 3.0+ KB\n"
     ]
    }
   ],
   "source": [
    "# Let's first visualize column data types and missing values\n",
    "df_brands.info()"
   ]
  },
  {
   "cell_type": "code",
   "execution_count": 280,
   "id": "87a22c0a-ee4f-48a2-96f4-3830ece202bf",
   "metadata": {},
   "outputs": [],
   "source": [
    "df_brands.to_csv(\"Cleaned_data/brands_cleaned.csv\", index=False)"
   ]
  },
  {
   "cell_type": "markdown",
   "id": "9e618c5d-4310-46e4-bb12-9a668021ae9f",
   "metadata": {},
   "source": [
    "# 3. Merge dataframes - completed orders only\n",
    "## 3.1 Prepare product and orderlines DFs for merging"
   ]
  },
  {
   "cell_type": "code",
   "execution_count": 281,
   "id": "85f2354a-ad6b-4dca-907f-667c11643271",
   "metadata": {},
   "outputs": [],
   "source": [
    "# Exclude orders with unknown products\n",
    "# Let's start by making a list of known products.\n",
    "# Get all product ids from products_cl \n",
    "known_skus_list = list(products_cl[\"sku\"])"
   ]
  },
  {
   "cell_type": "code",
   "execution_count": 282,
   "id": "3d0a5955-9b70-4f0f-a124-d30ee91c6dca",
   "metadata": {},
   "outputs": [
    {
     "data": {
      "text/plain": [
       "(8740, 6798)"
      ]
     },
     "execution_count": 282,
     "metadata": {},
     "output_type": "execute_result"
    }
   ],
   "source": [
    "# Check where products ids in outlines and products dfs match\n",
    "orderlines_qu=orderlines_cl.copy()\n",
    "len(list(products_cl[\"sku\"].unique())), len(list(orderlines_qu[\"sku\"].unique()))"
   ]
  },
  {
   "cell_type": "code",
   "execution_count": 283,
   "id": "ad3a75be-9df1-497c-8ef4-04510c18c7c8",
   "metadata": {},
   "outputs": [
    {
     "data": {
      "text/plain": [
       "sku\n",
       "True     207875\n",
       "False      8373\n",
       "Name: count, dtype: int64"
      ]
     },
     "execution_count": 283,
     "metadata": {},
     "output_type": "execute_result"
    }
   ],
   "source": [
    "orderlines_qu.sku.isin(known_skus_list).value_counts()"
   ]
  },
  {
   "cell_type": "code",
   "execution_count": 284,
   "id": "466814b5-f153-431a-b228-94d36c6f0760",
   "metadata": {},
   "outputs": [
    {
     "data": {
      "text/plain": [
       "(8740, 6155)"
      ]
     },
     "execution_count": 284,
     "metadata": {},
     "output_type": "execute_result"
    }
   ],
   "source": [
    "# Restrict the orderlines product ids to known list\n",
    "orders_with_unknown_products_list = list(orderlines_qu.loc[~orderlines_qu.sku.isin(known_skus_list), \"id_order\"])\n",
    "orderlines_qu = orderlines_qu.loc[~orderlines_qu[\"id_order\"].isin(orders_with_unknown_products_list), :]\n",
    "len(list(products_cl[\"sku\"].unique())), len(list(orderlines_qu[\"sku\"].unique()))"
   ]
  },
  {
   "cell_type": "code",
   "execution_count": 285,
   "id": "eee49703-a716-4145-a346-5371ba023c44",
   "metadata": {},
   "outputs": [
    {
     "data": {
      "text/plain": [
       "(8740, 6155, 6155)"
      ]
     },
     "execution_count": 285,
     "metadata": {},
     "output_type": "execute_result"
    }
   ],
   "source": [
    "# Now adjust product ids in the products df\n",
    "actual_prod_list = list(orderlines_qu[\"sku\"].unique())\n",
    "products_qu = products_cl.loc[products_cl[\"sku\"].isin(actual_prod_list), :].copy()\n",
    "len(list(products_cl[\"sku\"].unique())), len(list(products_qu[\"sku\"].unique())), len(list(orderlines_qu[\"sku\"].unique()))"
   ]
  },
  {
   "cell_type": "markdown",
   "id": "b7f18afd-326d-4255-be07-57ed5e77e1de",
   "metadata": {},
   "source": [
    "## 3.2 Merge the two dataframes"
   ]
  },
  {
   "cell_type": "code",
   "execution_count": 286,
   "id": "5cad0669-ad86-43f4-81c7-0189ecfab229",
   "metadata": {},
   "outputs": [],
   "source": [
    "df_merged_ol_prod = orderlines_qu.merge(products_qu, how=\"left\", on=\"sku\")"
   ]
  },
  {
   "cell_type": "code",
   "execution_count": 287,
   "id": "9933ed55-5c30-489a-923b-1cfb4e843de7",
   "metadata": {},
   "outputs": [
    {
     "data": {
      "text/plain": [
       "(203410, 17)"
      ]
     },
     "execution_count": 287,
     "metadata": {},
     "output_type": "execute_result"
    }
   ],
   "source": [
    "# let's also calculate the discount using unit_price **(discount_unit_price)**\n",
    "df_merged_ol_prod[\"discount_unit_price\"]=df_merged_ol_prod[\"mod_price\"]-df_merged_ol_prod[\"unit_price\"]\n",
    "df_merged_ol_prod[\"discount_unit_price_share\"]= df_merged_ol_prod[\"discount_unit_price\"]*100/df_merged_ol_prod[\"mod_price\"]\n",
    "df_merged_ol_prod=df_merged_ol_prod.drop(axis=1, columns=[\"product_id\", \"id\"])\n",
    "df_merged_ol_prod.shape"
   ]
  },
  {
   "cell_type": "code",
   "execution_count": 288,
   "id": "794f33bd-189b-4b42-85b3-ff3ad7ecb5c7",
   "metadata": {},
   "outputs": [
    {
     "data": {
      "text/plain": [
       "(196542, 17)"
      ]
     },
     "execution_count": 288,
     "metadata": {},
     "output_type": "execute_result"
    }
   ],
   "source": [
    "# Following assumption 2, lets drop products with negative discounts\n",
    "df_merged_ol_prod = df_merged_ol_prod[~df_merged_ol_prod['id_order'].isin(df_merged_ol_prod.loc[df_merged_ol_prod['discount_unit_price'] < -1, 'id_order'])]\n",
    "df_merged_ol_prod = df_merged_ol_prod[~df_merged_ol_prod['id_order'].isin(df_merged_ol_prod.loc[df_merged_ol_prod['discount_share'] < -1, 'id_order'])]\n",
    "df_merged_ol_prod = df_merged_ol_prod[~df_merged_ol_prod['id_order'].isin(df_merged_ol_prod.loc[df_merged_ol_prod['discount_unit_price_share'] < -1, 'id_order'])]\n",
    "df_merged_ol_prod.shape"
   ]
  },
  {
   "cell_type": "code",
   "execution_count": 289,
   "id": "cfaf10dd-d4b4-4d96-aa6b-3c31cd7ae8fd",
   "metadata": {},
   "outputs": [
    {
     "data": {
      "text/html": [
       "<div>\n",
       "<style scoped>\n",
       "    .dataframe tbody tr th:only-of-type {\n",
       "        vertical-align: middle;\n",
       "    }\n",
       "\n",
       "    .dataframe tbody tr th {\n",
       "        vertical-align: top;\n",
       "    }\n",
       "\n",
       "    .dataframe thead th {\n",
       "        text-align: right;\n",
       "    }\n",
       "</style>\n",
       "<table border=\"1\" class=\"dataframe\">\n",
       "  <thead>\n",
       "    <tr style=\"text-align: right;\">\n",
       "      <th></th>\n",
       "      <th>id_order</th>\n",
       "      <th>product_quantity</th>\n",
       "      <th>unit_price</th>\n",
       "      <th>date</th>\n",
       "      <th>in_stock</th>\n",
       "      <th>mod_price</th>\n",
       "      <th>mod_promo_price</th>\n",
       "      <th>discount</th>\n",
       "      <th>discount_share</th>\n",
       "      <th>discount_unit_price</th>\n",
       "      <th>discount_unit_price_share</th>\n",
       "    </tr>\n",
       "  </thead>\n",
       "  <tbody>\n",
       "    <tr>\n",
       "      <th>count</th>\n",
       "      <td>183598.00</td>\n",
       "      <td>183598.00</td>\n",
       "      <td>183598.00</td>\n",
       "      <td>183598</td>\n",
       "      <td>183598.00</td>\n",
       "      <td>183598.00</td>\n",
       "      <td>183598.00</td>\n",
       "      <td>183598.00</td>\n",
       "      <td>183598.00</td>\n",
       "      <td>183598.00</td>\n",
       "      <td>183598.00</td>\n",
       "    </tr>\n",
       "    <tr>\n",
       "      <th>mean</th>\n",
       "      <td>411153.74</td>\n",
       "      <td>1.13</td>\n",
       "      <td>137.80</td>\n",
       "      <td>2017-09-03 07:40:10.872335360</td>\n",
       "      <td>0.56</td>\n",
       "      <td>158.26</td>\n",
       "      <td>140.14</td>\n",
       "      <td>18.12</td>\n",
       "      <td>18.40</td>\n",
       "      <td>20.45</td>\n",
       "      <td>19.58</td>\n",
       "    </tr>\n",
       "    <tr>\n",
       "      <th>min</th>\n",
       "      <td>241319.00</td>\n",
       "      <td>1.00</td>\n",
       "      <td>0.00</td>\n",
       "      <td>2017-01-01 00:07:19</td>\n",
       "      <td>0.00</td>\n",
       "      <td>2.99</td>\n",
       "      <td>0.90</td>\n",
       "      <td>-0.80</td>\n",
       "      <td>-0.89</td>\n",
       "      <td>-1.00</td>\n",
       "      <td>-0.97</td>\n",
       "    </tr>\n",
       "    <tr>\n",
       "      <th>25%</th>\n",
       "      <td>354250.25</td>\n",
       "      <td>1.00</td>\n",
       "      <td>25.99</td>\n",
       "      <td>2017-05-11 09:16:29.500000</td>\n",
       "      <td>0.00</td>\n",
       "      <td>35.00</td>\n",
       "      <td>26.99</td>\n",
       "      <td>4.01</td>\n",
       "      <td>6.25</td>\n",
       "      <td>5.00</td>\n",
       "      <td>6.85</td>\n",
       "    </tr>\n",
       "    <tr>\n",
       "      <th>50%</th>\n",
       "      <td>410281.50</td>\n",
       "      <td>1.00</td>\n",
       "      <td>59.99</td>\n",
       "      <td>2017-10-10 08:03:50</td>\n",
       "      <td>1.00</td>\n",
       "      <td>79.95</td>\n",
       "      <td>62.30</td>\n",
       "      <td>10.00</td>\n",
       "      <td>14.32</td>\n",
       "      <td>12.99</td>\n",
       "      <td>15.77</td>\n",
       "    </tr>\n",
       "    <tr>\n",
       "      <th>75%</th>\n",
       "      <td>467745.50</td>\n",
       "      <td>1.00</td>\n",
       "      <td>149.99</td>\n",
       "      <td>2017-12-20 19:03:29.500000</td>\n",
       "      <td>1.00</td>\n",
       "      <td>179.00</td>\n",
       "      <td>154.99</td>\n",
       "      <td>22.62</td>\n",
       "      <td>25.02</td>\n",
       "      <td>24.01</td>\n",
       "      <td>26.01</td>\n",
       "    </tr>\n",
       "    <tr>\n",
       "      <th>max</th>\n",
       "      <td>527401.00</td>\n",
       "      <td>999.00</td>\n",
       "      <td>999.00</td>\n",
       "      <td>2018-03-14 13:58:36</td>\n",
       "      <td>1.00</td>\n",
       "      <td>3159.00</td>\n",
       "      <td>3001.00</td>\n",
       "      <td>184.58</td>\n",
       "      <td>92.24</td>\n",
       "      <td>3152.41</td>\n",
       "      <td>100.00</td>\n",
       "    </tr>\n",
       "    <tr>\n",
       "      <th>std</th>\n",
       "      <td>65715.30</td>\n",
       "      <td>3.01</td>\n",
       "      <td>192.84</td>\n",
       "      <td>NaN</td>\n",
       "      <td>0.50</td>\n",
       "      <td>203.35</td>\n",
       "      <td>195.09</td>\n",
       "      <td>21.06</td>\n",
       "      <td>16.59</td>\n",
       "      <td>43.68</td>\n",
       "      <td>17.50</td>\n",
       "    </tr>\n",
       "  </tbody>\n",
       "</table>\n",
       "</div>"
      ],
      "text/plain": [
       "       id_order  product_quantity  unit_price                           date  \\\n",
       "count 183598.00         183598.00   183598.00                         183598   \n",
       "mean  411153.74              1.13      137.80  2017-09-03 07:40:10.872335360   \n",
       "min   241319.00              1.00        0.00            2017-01-01 00:07:19   \n",
       "25%   354250.25              1.00       25.99     2017-05-11 09:16:29.500000   \n",
       "50%   410281.50              1.00       59.99            2017-10-10 08:03:50   \n",
       "75%   467745.50              1.00      149.99     2017-12-20 19:03:29.500000   \n",
       "max   527401.00            999.00      999.00            2018-03-14 13:58:36   \n",
       "std    65715.30              3.01      192.84                            NaN   \n",
       "\n",
       "       in_stock  mod_price  mod_promo_price  discount  discount_share  \\\n",
       "count 183598.00  183598.00        183598.00 183598.00       183598.00   \n",
       "mean       0.56     158.26           140.14     18.12           18.40   \n",
       "min        0.00       2.99             0.90     -0.80           -0.89   \n",
       "25%        0.00      35.00            26.99      4.01            6.25   \n",
       "50%        1.00      79.95            62.30     10.00           14.32   \n",
       "75%        1.00     179.00           154.99     22.62           25.02   \n",
       "max        1.00    3159.00          3001.00    184.58           92.24   \n",
       "std        0.50     203.35           195.09     21.06           16.59   \n",
       "\n",
       "       discount_unit_price  discount_unit_price_share  \n",
       "count            183598.00                  183598.00  \n",
       "mean                 20.45                      19.58  \n",
       "min                  -1.00                      -0.97  \n",
       "25%                   5.00                       6.85  \n",
       "50%                  12.99                      15.77  \n",
       "75%                  24.01                      26.01  \n",
       "max                3152.41                     100.00  \n",
       "std                  43.68                      17.50  "
      ]
     },
     "execution_count": 289,
     "metadata": {},
     "output_type": "execute_result"
    }
   ],
   "source": [
    "# calculate the quartiles\n",
    "Q1 = df_merged_ol_prod[\"discount_unit_price\"].quantile(0.25)\n",
    "Q3 = df_merged_ol_prod[\"discount_unit_price\"].quantile(0.75)\n",
    "\n",
    "# calculate the interquartile range\n",
    "IQR = Q3-Q1\n",
    "\n",
    "# filter the DataFrame to include only \"non-outliers\"\n",
    "orders_with_neg_discounts_list = list(df_merged_ol_prod.loc[(df_merged_ol_prod[\"discount_unit_price\"] >= (Q1 - 1.5*IQR)) & (df_merged_ol_prod[\"discount_unit_price\"] <= (Q3 + 1.5*IQR)), \"id_order\"])\n",
    "df_merged_ol_prod=df_merged_ol_prod.loc[df_merged_ol_prod[\"id_order\"].isin(orders_with_neg_discounts_list), :]\n",
    "df_merged_ol_prod.describe()"
   ]
  },
  {
   "cell_type": "markdown",
   "id": "56377061-9d18-4c21-99e6-9f74d38da164",
   "metadata": {},
   "source": [
    "### Data cleaning steps - summary\n",
    "- Minimum discounts possible \"-1\" - applied to both discounts calculated using promo_price and unit price\n",
    "- Dropped outliers of discounts using the IQR method\n",
    "- Dropped observations with two dots in the unit price (12.3%) and price (3.58%) columns"
   ]
  },
  {
   "cell_type": "markdown",
   "id": "a0881ee9-059c-4207-b603-eeda5ab4d947",
   "metadata": {},
   "source": [
    "## 3.3 Restrict the focus to \"Completed\" orders"
   ]
  },
  {
   "cell_type": "code",
   "execution_count": 290,
   "id": "8f20d2d4-de91-47f7-b80d-61a5580191e0",
   "metadata": {},
   "outputs": [],
   "source": [
    "#len(list(orders_qu[\"order_id\"].unique())), len(list(orderlines_qu[\"id_order\"].unique())), len(list(df_merged_ol_prod[\"id_order\"].unique()))\n",
    "# Observe that order ids differ across dfs"
   ]
  },
  {
   "cell_type": "code",
   "execution_count": 291,
   "id": "21e766d4-30aa-4565-8988-f57c13421c99",
   "metadata": {},
   "outputs": [
    {
     "data": {
      "text/plain": [
       "(46605, 162183, 36900)"
      ]
     },
     "execution_count": 291,
     "metadata": {},
     "output_type": "execute_result"
    }
   ],
   "source": [
    "# Get the order ids of the completed orders\n",
    "compl_orders_df = orders_cl.copy()\n",
    "compl_orders_df = compl_orders_df.loc[compl_orders_df.state == \"Completed\", :]\n",
    "compl_orders_list = list(compl_orders_df[\"order_id\"])\n",
    "\n",
    "# Restrict the dfs to completed orders\n",
    "orders_qu = orders_cl.loc[orders_cl[\"order_id\"].isin(compl_orders_list), :].copy()\n",
    "df_merged_ol_prod = df_merged_ol_prod.loc[df_merged_ol_prod[\"id_order\"].isin(compl_orders_list), :].copy()\n",
    "len(list(orders_qu.order_id.unique())), len(list(orderlines_qu.id_order.unique())), len(list(df_merged_ol_prod.id_order.unique()))"
   ]
  },
  {
   "cell_type": "code",
   "execution_count": 292,
   "id": "18fdf630-eaa5-4a91-aaf3-05f2dc802790",
   "metadata": {},
   "outputs": [
    {
     "data": {
      "text/plain": [
       "(36900, 36900)"
      ]
     },
     "execution_count": 292,
     "metadata": {},
     "output_type": "execute_result"
    }
   ],
   "source": [
    "# Readjust the orders df to keep order ids also present in df_merged_ol_prod\n",
    "o_ids_in_both_list = list(df_merged_ol_prod[\"id_order\"].unique())\n",
    "orders_qu = orders_qu.loc[orders_qu[\"order_id\"].isin(o_ids_in_both_list), :]\n",
    "len(list(orders_qu.order_id.unique())), len(list(df_merged_ol_prod.id_order.unique()))"
   ]
  },
  {
   "cell_type": "markdown",
   "id": "59bb3488-fd18-4154-8114-1bd619be44b8",
   "metadata": {},
   "source": [
    "## 3.4 Create new variables"
   ]
  },
  {
   "cell_type": "code",
   "execution_count": 293,
   "id": "2eb535b1-8646-4a67-b4eb-7189a197bc50",
   "metadata": {},
   "outputs": [],
   "source": [
    "# Create new columns \"Old\" and \"repair service\"\n",
    "df_merged_ol_prod['combined'] = df_merged_ol_prod['name'] + ' ' + df_merged_ol_prod['desc']\n",
    "\n",
    "# Define keywords that suggest refurbed products\n",
    "searchfor = [\"refurb\", \"refit\", \"renew\", \"second\", \"like new\", \"reconditioned\", \"used\"]\n",
    "searchfor2=[\"repair service\"]\n",
    "\n",
    "# Create a new column \"Old\"\n",
    "df_merged_ol_prod[\"Old\"] = df_merged_ol_prod['combined'].str.lower().apply(lambda x: 1 if any(i in x for i in searchfor) else 0)\n",
    "df_merged_ol_prod[\"repair service\"] = df_merged_ol_prod['combined'].str.lower().apply(lambda x: 1 if any(i in x for i in searchfor2) else 0)"
   ]
  },
  {
   "cell_type": "code",
   "execution_count": 294,
   "id": "d231b018-9a8c-4643-a54a-e80d09334ad0",
   "metadata": {},
   "outputs": [],
   "source": [
    "df_merged_ol_prod[\"brand\"]=df_merged_ol_prod[\"sku\"].str[0:3]"
   ]
  },
  {
   "cell_type": "code",
   "execution_count": 295,
   "id": "301c4e7a-16ec-46cc-a5ea-12edd28107ff",
   "metadata": {},
   "outputs": [
    {
     "data": {
      "text/plain": [
       "category\n",
       "Apple                                                 405\n",
       "Apple: desktop                                        137\n",
       "Apple: desktop non_electronic_acc                       6\n",
       "Apple: desktop refurbished                              5\n",
       "Apple: headsets non_electronic_acc                     13\n",
       "Apple: laptop                                          87\n",
       "Apple: non_electronic_acc                             545\n",
       "Apple: non_electronic_acc refurbished                  20\n",
       "Apple: non_electronic_acc smartwatch                   43\n",
       "Apple: non_electronic_acc smartwatch refurbished        3\n",
       "Apple: refurbished                                    122\n",
       "Apple: smartphone                                    1846\n",
       "Apple: smartphone headsets                            948\n",
       "Apple: smartphone headsets refurbished                  8\n",
       "Apple: smartphone non_electronic_acc                  667\n",
       "Apple: smartphone non_electronic_acc refurbished       38\n",
       "Apple: smartphone refurbished                          56\n",
       "Apple: smartwatch                                     464\n",
       "Apple: smartwatch refurbished                           1\n",
       "Apple: tablet                                         475\n",
       "Apple: tablet non_electronic_acc                      175\n",
       "Apple: tablet refurbished                               5\n",
       "desktop                                              1148\n",
       "desktop: headsets                                      16\n",
       "desktop: laptop                                         6\n",
       "desktop: non_electronic_acc                            96\n",
       "electronic_acc                                      23964\n",
       "electronic_acc: headsets                              394\n",
       "electronic_acc: headsets monitor                       44\n",
       "electronic_acc: headsets monitor refurbished            1\n",
       "electronic_acc: headsets non_electronic_acc            24\n",
       "electronic_acc: headsets refurbished                    1\n",
       "electronic_acc: monitor                              1017\n",
       "electronic_acc: monitor refurbished                    12\n",
       "electronic_acc: non_electronic_acc                   2345\n",
       "electronic_acc: non_electronic_acc monitor            137\n",
       "electronic_acc: non_electronic_acc refurbished         38\n",
       "electronic_acc: refurbished                           151\n",
       "electronic_acc: smartwatch monitor                     25\n",
       "electronic_acc: smartwatch monitor refurbished          1\n",
       "headsets                                              911\n",
       "headsets: non_electronic_acc                           86\n",
       "headsets: non_electronic_acc refurbished                1\n",
       "headsets: refurbished                                   1\n",
       "laptop                                                918\n",
       "laptop: non_electronic_acc                           1058\n",
       "laptop: non_electronic_acc refurbished                 11\n",
       "laptop: refurbished                                     3\n",
       "non_electronic_acc                                    832\n",
       "non_electronic_acc: refurbished                        12\n",
       "non_electronic_acc: smartwatch                          1\n",
       "other                                                4068\n",
       "refurbished                                            16\n",
       "smartphone                                            955\n",
       "smartphone: desktop                                     4\n",
       "smartphone: desktop non_electronic_acc                  1\n",
       "smartphone: headsets                                  353\n",
       "smartphone: headsets non_electronic_acc                27\n",
       "smartphone: headsets refurbished                        8\n",
       "smartphone: non_electronic_acc                       3618\n",
       "smartphone: non_electronic_acc refurbished             11\n",
       "smartphone: refurbished                                 9\n",
       "smartphone: smartwatch                                  2\n",
       "smartwatch                                             60\n",
       "smartwatch: refurbished                                 1\n",
       "tablet                                                469\n",
       "tablet: headsets                                        5\n",
       "Name: count, dtype: int64"
      ]
     },
     "execution_count": 295,
     "metadata": {},
     "output_type": "execute_result"
    }
   ],
   "source": [
    "df_merged_ol_prod[\"category\"] = \"\"\n",
    "\n",
    "df_merged_ol_prod.loc[df_merged_ol_prod[\"name\"].str.contains(\"apple\", case=False), \"category\"] += \", apple\"\n",
    "df_merged_ol_prod.loc[df_merged_ol_prod[\"name\"].str.contains(\"^.{0,7}apple iphone|phone|mobile|smartphone\", case=False), \"category\"] += \", smartphone\"\n",
    "df_merged_ol_prod.loc[df_merged_ol_prod[\"name\"].str.contains(\"^.{0,7}apple ipod\", case=False), \"category\"] += \", ipod\"\n",
    "df_merged_ol_prod.loc[df_merged_ol_prod[\"name\"].str.contains(\"^.{0,7}apple ipad|tablet\", case=False), \"category\"] += \", tablet\"\n",
    "df_merged_ol_prod.loc[df_merged_ol_prod[\"name\"].str.contains(\"imac|mac mini|mac pro| mac \", case=False), \"category\"] += \", desktop\"\n",
    "df_merged_ol_prod.loc[df_merged_ol_prod[\"name\"].str.contains(\"macbook\", case=False), \"category\"] += \", laptop\"\n",
    "df_merged_ol_prod.loc[df_merged_ol_prod[\"desc\"].str.contains(\"screen|monitor|keyboard|mouse|cable|connector|lightning to usb|wall socket|power strip|nas|server|raid|synology|adapter|dock|hub|connection|expansion box|battery|charger|flash drive|hard drive|pendrive|hard disk|memory|storage|^ssd|^hardssd|modules|ssd expansion|pointer|camera|^.{0,7}ram|thermometer|charger\", case=False), \"category\"] = \", electronic_acc\"\n",
    "df_merged_ol_prod.loc[df_merged_ol_prod[\"desc\"].str.contains(\"headset|headphones|earpod|airpod|earphones|speaker|music system\", case=False), \"category\"] += \", headsets\"\n",
    "df_merged_ol_prod.loc[df_merged_ol_prod[\"desc\"].str.contains(\"case|funda|housing|casing|folder|strap|armband|belt|bracelet|stand|support|protect|cover|sleeve|screensaver|shell\", case=False), \"category\"] += \", non_electronic_acc\"\n",
    "df_merged_ol_prod.loc[df_merged_ol_prod[\"desc\"].str.contains(\"^.{0,6}apple watch|smartwatch|smart watch\", case=False), \"category\"] += \", smartwatch\"\n",
    "df_merged_ol_prod.loc[df_merged_ol_prod[\"desc\"].str.contains(\"monitor\", case=False), \"category\"] += \", monitor\"\n",
    "df_merged_ol_prod.loc[df_merged_ol_prod[\"desc\"].str.contains(\"like new|refurb|refit|renew|second|like new|reconditioned|used\", case=False), \"category\"] += \", refurbished\"\n",
    "#df_merged_ol_prod.loc[df_merged_ol_prod[\"desc\"].str.contains(\"repair service\", case=False), \"category\"] += \", repair service\"\n",
    "\n",
    "df_merged_ol_prod.loc[df_merged_ol_prod[\"category\"] == \"\", \"category\"] += \", other\"\n",
    "\n",
    "df_merged_ol_prod[\"category\"]=df_merged_ol_prod[\"category\"].str.replace(\", \", \"\", 1)\n",
    "df_merged_ol_prod[\"category\"]=df_merged_ol_prod[\"category\"].str.replace(\"apple\", \"Apple\")\n",
    "df_merged_ol_prod[\"category\"]=df_merged_ol_prod[\"category\"].str.replace(\",\", \":\", 1)\n",
    "df_merged_ol_prod[\"category\"]=df_merged_ol_prod[\"category\"].str.replace(\",\", \"\")\n",
    "df_merged_ol_prod[\"category\"].value_counts().sort_index()"
   ]
  },
  {
   "cell_type": "code",
   "execution_count": 296,
   "id": "ea659cd5-d26a-41d3-a917-9e65b9abe710",
   "metadata": {},
   "outputs": [
    {
     "data": {
      "text/plain": [
       "{'Apple': 1423,\n",
       " 'Apple: desktop': 136,\n",
       " 'Apple: laptop': 87,\n",
       " 'Apple: refurbished': 380,\n",
       " 'Apple: smartphone': 1846,\n",
       " 'Apple: smartphone headsets': 948,\n",
       " 'Apple: smartwatch': 464,\n",
       " 'Apple: tablet': 475,\n",
       " 'desktop': 1148,\n",
       " 'desktop: headsets': 16,\n",
       " 'desktop: laptop': 6,\n",
       " 'electronic_acc': 23947,\n",
       " 'electronic_acc: headsets': 394,\n",
       " 'electronic_acc: headsets monitor': 44,\n",
       " 'electronic_acc: monitor': 1017,\n",
       " 'electronic_acc: smartwatch monitor': 25,\n",
       " 'headsets': 911,\n",
       " 'laptop': 823,\n",
       " 'other': 12655,\n",
       " 'refurbished': 337,\n",
       " 'smartphone': 955,\n",
       " 'smartphone: desktop': 4,\n",
       " 'smartphone: headsets': 353,\n",
       " 'smartphone: smartwatch': 2,\n",
       " 'smartwatch': 60,\n",
       " 'tablet': 469,\n",
       " 'tablet: headsets': 5}"
      ]
     },
     "execution_count": 296,
     "metadata": {},
     "output_type": "execute_result"
    }
   ],
   "source": [
    "#\"Apple: refurbished\"\n",
    "df_merged_ol_prod.loc[(df_merged_ol_prod[\"Old\"]==1) & (df_merged_ol_prod[\"brand\"].isin([\"APP\", \"AP2\"])), \"category\"]=\"Apple: refurbished\"\n",
    "df_merged_ol_prod.loc[(df_merged_ol_prod[\"Old\"]==1) & (~df_merged_ol_prod[\"brand\"].isin([\"APP\", \"AP2\"])), \"category\"]=\"refurbished\"\n",
    "\n",
    "df_merged_ol_prod.loc[(df_merged_ol_prod[\"category\"].str.contains(\"non_electronic_acc\")) & (df_merged_ol_prod[\"brand\"].isin([\"APP\", \"AP2\"])), \"category\"]=\"Apple\"\n",
    "df_merged_ol_prod.loc[(df_merged_ol_prod[\"category\"].str.contains(\"non_electronic_acc\")) & (~df_merged_ol_prod[\"brand\"].isin([\"APP\", \"AP2\"])), \"category\"]=\"other\"\n",
    "df_merged_ol_prod.loc[(df_merged_ol_prod[\"category\"]==\"Apple\") & (~df_merged_ol_prod[\"brand\"].isin([\"APP\", \"AP2\"])), \"category\"]=\"other\"\n",
    "\n",
    "category_counts = df_merged_ol_prod[\"category\"].value_counts().sort_index().to_dict()\n",
    "category_counts"
   ]
  },
  {
   "cell_type": "code",
   "execution_count": 297,
   "id": "9d573eee-be62-42f4-ab94-6601c94cc357",
   "metadata": {},
   "outputs": [
    {
     "data": {
      "text/plain": [
       "category\n",
       "Apple                  2371\n",
       "Apple: desktop          136\n",
       "Apple: laptop            87\n",
       "Apple: refurbished      380\n",
       "Apple: smartphone      1846\n",
       "Apple: smartwatch       464\n",
       "Apple: tablet           475\n",
       "desktop                1148\n",
       "laptop                  823\n",
       "other                 39379\n",
       "refurbished             337\n",
       "smartphone              955\n",
       "smartwatch               60\n",
       "tablet                  469\n",
       "Name: count, dtype: int64"
      ]
     },
     "execution_count": 297,
     "metadata": {},
     "output_type": "execute_result"
    }
   ],
   "source": [
    "#searchfor = [\"Apple: smartphone headsets\", \"Apple\", \"desktop: headsets\", \"headsets: smartwatch monitor\", \"desktop: laptop\", \"electronic_acc: headsets monitor\"]\n",
    "#df_merged_ol_prod.loc[(df_merged_ol_prod[\"category\"].str.contains('|'.join(searchfor))) & (~df_merged_ol_prod[\"brand\"].isin([\"APP\", \"AP2\"])), \"category\"]=\"other\"\n",
    "df_merged_ol_prod[\"category\"] = df_merged_ol_prod[\"category\"].replace({\n",
    "    'Apple: smartphone headsets': 'Apple',     \n",
    "    'desktop: headsets': \"other\",    \n",
    "    'desktop: laptop': \"other\",    \n",
    "    \"electronic_acc\": \"other\",    \n",
    "    \"electronic_acc: headsets monitor\": \"other\",     \n",
    "    \"electronic_acc: monitor\": \"other\",     \n",
    "    \"electronic_acc: smartwatch monitor\": \"other\", \n",
    "    \"electronic_acc: headsets\": \"other\", \n",
    "    \"smartphone: headsets\": \"other\",   \n",
    "    \"smartphone: desktop\": \"other\",     \n",
    "    \"smartphone: smartwatch\": \"other\",  \n",
    "    \"tablet: headsets\": \"other\",\n",
    "    \"headsets\": \"other\"})\n",
    "df_merged_ol_prod[\"category\"].value_counts().sort_index()"
   ]
  },
  {
   "cell_type": "code",
   "execution_count": 298,
   "id": "ffa7683a-d129-457f-89f2-e7458686a14d",
   "metadata": {},
   "outputs": [
    {
     "name": "stdout",
     "output_type": "stream",
     "text": [
      "With the 30 largest types, we account for 79.88% of all products.\n"
     ]
    }
   ],
   "source": [
    "### Create a product category for the most frequently sold products\n",
    "n = 30\n",
    "\n",
    "# Get the top n categories based on counts\n",
    "top_n_categories = df_merged_ol_prod.groupby('type').count().nlargest(n, 'sku').index\n",
    "\n",
    "# Create a new column 'product_type' with initial value 'others'\n",
    "df_merged_ol_prod['product_type'] = 'others'\n",
    "\n",
    "# Set 'top_30' for rows with categories in the top_n_categories\n",
    "df_merged_ol_prod.loc[df_merged_ol_prod['type'].isin(top_n_categories), 'product_type'] = 'top_30'\n",
    "\n",
    "print(f\"With the {n} largest types, we account for {((df_merged_ol_prod.groupby('type').count().nlargest(n, 'sku')['sku'].sum()) / (df_merged_ol_prod.shape[0]) * 100).round(2)}% of all products.\")"
   ]
  },
  {
   "cell_type": "code",
   "execution_count": 299,
   "id": "b1aaf963-8c15-4e83-8d0b-55b6d14872d5",
   "metadata": {},
   "outputs": [],
   "source": [
    "# Save the merged files\n",
    "df_merged_ol_prod.to_csv(\"Cleaned_data/df_merged_ol_prod.csv\", index=False)"
   ]
  },
  {
   "cell_type": "markdown",
   "id": "8ec275b9-85f7-4a6e-a64c-6f7d7276ae3e",
   "metadata": {},
   "source": [
    "## 3.4 Merge with orders"
   ]
  },
  {
   "cell_type": "markdown",
   "id": "a0cfa700-55c6-48e6-86ff-dfa0bf22e17b",
   "metadata": {},
   "source": [
    "### 3.4.1 Prepare the merged df for the merge"
   ]
  },
  {
   "cell_type": "code",
   "execution_count": 300,
   "id": "c41c5b23-53a4-422a-85da-f83a973b0735",
   "metadata": {},
   "outputs": [
    {
     "data": {
      "text/plain": [
       "(36900, 36900)"
      ]
     },
     "execution_count": 300,
     "metadata": {},
     "output_type": "execute_result"
    }
   ],
   "source": [
    "len(list(orders_qu.order_id.unique())), len(list(df_merged_ol_prod.id_order.unique()))"
   ]
  },
  {
   "cell_type": "code",
   "execution_count": 301,
   "id": "41cf1c17-455d-4dee-a6f2-01bd68fd86da",
   "metadata": {},
   "outputs": [],
   "source": [
    "# Generate the alternative indicator for total pay column\n",
    "df_merged_ol_prod[\"unit_price_revenue\"] = df_merged_ol_prod[\"product_quantity\"] * df_merged_ol_prod[\"unit_price\"]\n",
    "df_merged_ol_prod[\"promo_price_revenue\"] = df_merged_ol_prod[\"product_quantity\"] * df_merged_ol_prod[\"mod_promo_price\"]"
   ]
  },
  {
   "cell_type": "code",
   "execution_count": 302,
   "id": "6b81ba51-3003-45ae-b02f-a6dd8ac6a104",
   "metadata": {},
   "outputs": [],
   "source": [
    "# Group by merged df by order id\n",
    "ol_products_merged_group_orders = df_merged_ol_prod.groupby(\"id_order\", as_index=False).agg({\"unit_price_revenue\": \"sum\", \"promo_price_revenue\": \"sum\", \"product_quantity\": \"sum\", \"discount_share\": \"mean\", \"discount_unit_price_share\": \"mean\"})"
   ]
  },
  {
   "cell_type": "code",
   "execution_count": 303,
   "id": "1d5f91d8-2c00-421f-ad02-6e6dbde5cbfb",
   "metadata": {},
   "outputs": [],
   "source": [
    "orders_qu_copy = orders_qu.copy()"
   ]
  },
  {
   "cell_type": "code",
   "execution_count": 304,
   "id": "a2ebb97c-3f88-4cb9-8b73-a023eab382f0",
   "metadata": {},
   "outputs": [
    {
     "data": {
      "text/plain": [
       "(36900, 36900, 36900)"
      ]
     },
     "execution_count": 304,
     "metadata": {},
     "output_type": "execute_result"
    }
   ],
   "source": [
    "diff_df = orders_qu_copy.merge(ol_products_merged_group_orders, left_on=\"order_id\", right_on=\"id_order\")\n",
    "len(list(orders_qu_copy[\"order_id\"].unique())), len(list(df_merged_ol_prod[\"id_order\"].unique())), len(list(diff_df[\"id_order\"].unique()))"
   ]
  },
  {
   "cell_type": "code",
   "execution_count": 305,
   "id": "58793900-f42e-4963-9828-833a7d826537",
   "metadata": {},
   "outputs": [],
   "source": [
    "diff_df[\"diff_total_paid_unit_price\"] = diff_df[\"total_paid\"] - diff_df[\"unit_price_revenue\"]\n",
    "diff_df[\"diff_total_paid_promo_price\"] = diff_df[\"total_paid\"] - diff_df[\"promo_price_revenue\"]"
   ]
  },
  {
   "cell_type": "code",
   "execution_count": 306,
   "id": "15658b83-9c86-4b33-80c4-016899811952",
   "metadata": {},
   "outputs": [],
   "source": [
    "diff_df.to_csv(\"Cleaned_data/df_merged_ol_prod_ord.csv\", index=False)"
   ]
  },
  {
   "cell_type": "code",
   "execution_count": 307,
   "id": "fe851130-a833-4ec6-88ed-3b76f78f940b",
   "metadata": {},
   "outputs": [
    {
     "data": {
      "image/png": "[encoded data removed]",
      "text/plain": [
       "<Figure size 800x600 with 1 Axes>"
      ]
     },
     "metadata": {},
     "output_type": "display_data"
    }
   ],
   "source": [
    "diff_df.diff_total_paid_unit_price.hist(bins= 50, figsize=(8,6));"
   ]
  },
  {
   "cell_type": "code",
   "execution_count": 308,
   "id": "dd6dbd35-376b-4ab6-9b16-505d27c3de31",
   "metadata": {},
   "outputs": [
    {
     "data": {
      "image/png": "[encoded data removed]",
      "text/plain": [
       "<Figure size 800x600 with 1 Axes>"
      ]
     },
     "metadata": {},
     "output_type": "display_data"
    }
   ],
   "source": [
    "diff_df.diff_total_paid_promo_price.hist(bins= 50, figsize=(8,6));"
   ]
  },
  {
   "cell_type": "code",
   "execution_count": 309,
   "id": "b6562cc6-07c3-412a-aece-bfd16ef9f616",
   "metadata": {
    "scrolled": true
   },
   "outputs": [
    {
     "data": {
      "text/html": [
       "<div>\n",
       "<style scoped>\n",
       "    .dataframe tbody tr th:only-of-type {\n",
       "        vertical-align: middle;\n",
       "    }\n",
       "\n",
       "    .dataframe tbody tr th {\n",
       "        vertical-align: top;\n",
       "    }\n",
       "\n",
       "    .dataframe thead th {\n",
       "        text-align: right;\n",
       "    }\n",
       "</style>\n",
       "<table border=\"1\" class=\"dataframe\">\n",
       "  <thead>\n",
       "    <tr style=\"text-align: right;\">\n",
       "      <th></th>\n",
       "      <th>order_id</th>\n",
       "      <th>created_date</th>\n",
       "      <th>total_paid</th>\n",
       "      <th>id_order</th>\n",
       "      <th>unit_price_revenue</th>\n",
       "      <th>promo_price_revenue</th>\n",
       "      <th>product_quantity</th>\n",
       "      <th>discount_share</th>\n",
       "      <th>discount_unit_price_share</th>\n",
       "      <th>diff_total_paid_unit_price</th>\n",
       "      <th>diff_total_paid_promo_price</th>\n",
       "    </tr>\n",
       "  </thead>\n",
       "  <tbody>\n",
       "    <tr>\n",
       "      <th>count</th>\n",
       "      <td>36900.00</td>\n",
       "      <td>36900</td>\n",
       "      <td>36900.00</td>\n",
       "      <td>36900.00</td>\n",
       "      <td>36900.00</td>\n",
       "      <td>36900.00</td>\n",
       "      <td>36900.00</td>\n",
       "      <td>36900.00</td>\n",
       "      <td>36900.00</td>\n",
       "      <td>36900.00</td>\n",
       "      <td>36900.00</td>\n",
       "    </tr>\n",
       "    <tr>\n",
       "      <th>mean</th>\n",
       "      <td>415395.57</td>\n",
       "      <td>2017-09-13 06:09:19.897127424</td>\n",
       "      <td>166.82</td>\n",
       "      <td>415395.57</td>\n",
       "      <td>162.38</td>\n",
       "      <td>165.01</td>\n",
       "      <td>1.50</td>\n",
       "      <td>19.15</td>\n",
       "      <td>21.04</td>\n",
       "      <td>4.44</td>\n",
       "      <td>1.80</td>\n",
       "    </tr>\n",
       "    <tr>\n",
       "      <th>min</th>\n",
       "      <td>241423.00</td>\n",
       "      <td>2017-01-01 01:51:47</td>\n",
       "      <td>0.00</td>\n",
       "      <td>241423.00</td>\n",
       "      <td>2.49</td>\n",
       "      <td>2.00</td>\n",
       "      <td>1.00</td>\n",
       "      <td>-0.89</td>\n",
       "      <td>-0.82</td>\n",
       "      <td>-165.00</td>\n",
       "      <td>-2245.72</td>\n",
       "    </tr>\n",
       "    <tr>\n",
       "      <th>25%</th>\n",
       "      <td>363483.50</td>\n",
       "      <td>2017-06-13 15:08:51.500000</td>\n",
       "      <td>43.98</td>\n",
       "      <td>363483.50</td>\n",
       "      <td>39.98</td>\n",
       "      <td>39.99</td>\n",
       "      <td>1.00</td>\n",
       "      <td>8.61</td>\n",
       "      <td>9.93</td>\n",
       "      <td>0.00</td>\n",
       "      <td>-1.67</td>\n",
       "    </tr>\n",
       "    <tr>\n",
       "      <th>50%</th>\n",
       "      <td>418076.00</td>\n",
       "      <td>2017-10-28 23:14:43.500000</td>\n",
       "      <td>86.98</td>\n",
       "      <td>418076.00</td>\n",
       "      <td>82.64</td>\n",
       "      <td>86.99</td>\n",
       "      <td>1.00</td>\n",
       "      <td>16.14</td>\n",
       "      <td>17.65</td>\n",
       "      <td>4.99</td>\n",
       "      <td>3.99</td>\n",
       "    </tr>\n",
       "    <tr>\n",
       "      <th>75%</th>\n",
       "      <td>470922.25</td>\n",
       "      <td>2017-12-26 08:47:10</td>\n",
       "      <td>187.98</td>\n",
       "      <td>470922.25</td>\n",
       "      <td>183.72</td>\n",
       "      <td>187.98</td>\n",
       "      <td>2.00</td>\n",
       "      <td>25.74</td>\n",
       "      <td>27.96</td>\n",
       "      <td>6.99</td>\n",
       "      <td>6.99</td>\n",
       "    </tr>\n",
       "    <tr>\n",
       "      <th>max</th>\n",
       "      <td>527112.00</td>\n",
       "      <td>2018-03-14 12:03:52</td>\n",
       "      <td>6876.94</td>\n",
       "      <td>527112.00</td>\n",
       "      <td>6876.80</td>\n",
       "      <td>6911.79</td>\n",
       "      <td>72.00</td>\n",
       "      <td>88.58</td>\n",
       "      <td>96.29</td>\n",
       "      <td>3984.99</td>\n",
       "      <td>3982.29</td>\n",
       "    </tr>\n",
       "    <tr>\n",
       "      <th>std</th>\n",
       "      <td>65666.45</td>\n",
       "      <td>NaN</td>\n",
       "      <td>223.35</td>\n",
       "      <td>65666.45</td>\n",
       "      <td>222.75</td>\n",
       "      <td>224.39</td>\n",
       "      <td>1.28</td>\n",
       "      <td>15.45</td>\n",
       "      <td>16.13</td>\n",
       "      <td>25.16</td>\n",
       "      <td>42.40</td>\n",
       "    </tr>\n",
       "  </tbody>\n",
       "</table>\n",
       "</div>"
      ],
      "text/plain": [
       "       order_id                   created_date  total_paid  id_order  \\\n",
       "count  36900.00                          36900    36900.00  36900.00   \n",
       "mean  415395.57  2017-09-13 06:09:19.897127424      166.82 415395.57   \n",
       "min   241423.00            2017-01-01 01:51:47        0.00 241423.00   \n",
       "25%   363483.50     2017-06-13 15:08:51.500000       43.98 363483.50   \n",
       "50%   418076.00     2017-10-28 23:14:43.500000       86.98 418076.00   \n",
       "75%   470922.25            2017-12-26 08:47:10      187.98 470922.25   \n",
       "max   527112.00            2018-03-14 12:03:52     6876.94 527112.00   \n",
       "std    65666.45                            NaN      223.35  65666.45   \n",
       "\n",
       "       unit_price_revenue  promo_price_revenue  product_quantity  \\\n",
       "count            36900.00             36900.00          36900.00   \n",
       "mean               162.38               165.01              1.50   \n",
       "min                  2.49                 2.00              1.00   \n",
       "25%                 39.98                39.99              1.00   \n",
       "50%                 82.64                86.99              1.00   \n",
       "75%                183.72               187.98              2.00   \n",
       "max               6876.80              6911.79             72.00   \n",
       "std                222.75               224.39              1.28   \n",
       "\n",
       "       discount_share  discount_unit_price_share  diff_total_paid_unit_price  \\\n",
       "count        36900.00                   36900.00                    36900.00   \n",
       "mean            19.15                      21.04                        4.44   \n",
       "min             -0.89                      -0.82                     -165.00   \n",
       "25%              8.61                       9.93                        0.00   \n",
       "50%             16.14                      17.65                        4.99   \n",
       "75%             25.74                      27.96                        6.99   \n",
       "max             88.58                      96.29                     3984.99   \n",
       "std             15.45                      16.13                       25.16   \n",
       "\n",
       "       diff_total_paid_promo_price  \n",
       "count                     36900.00  \n",
       "mean                          1.80  \n",
       "min                       -2245.72  \n",
       "25%                          -1.67  \n",
       "50%                           3.99  \n",
       "75%                           6.99  \n",
       "max                        3982.29  \n",
       "std                          42.40  "
      ]
     },
     "execution_count": 309,
     "metadata": {},
     "output_type": "execute_result"
    }
   ],
   "source": [
    "diff_df.describe()"
   ]
  },
  {
   "cell_type": "code",
   "execution_count": 310,
   "id": "1381f7db-d390-439a-9b8d-09058383faa4",
   "metadata": {},
   "outputs": [
    {
     "name": "stdout",
     "output_type": "stream",
     "text": [
      "<class 'pandas.core.frame.DataFrame'>\n",
      "RangeIndex: 36900 entries, 0 to 36899\n",
      "Data columns (total 12 columns):\n",
      " #   Column                       Non-Null Count  Dtype         \n",
      "---  ------                       --------------  -----         \n",
      " 0   order_id                     36900 non-null  int64         \n",
      " 1   created_date                 36900 non-null  datetime64[ns]\n",
      " 2   total_paid                   36900 non-null  float64       \n",
      " 3   state                        36900 non-null  object        \n",
      " 4   id_order                     36900 non-null  int64         \n",
      " 5   unit_price_revenue           36900 non-null  float64       \n",
      " 6   promo_price_revenue          36900 non-null  float64       \n",
      " 7   product_quantity             36900 non-null  int64         \n",
      " 8   discount_share               36900 non-null  float64       \n",
      " 9   discount_unit_price_share    36900 non-null  float32       \n",
      " 10  diff_total_paid_unit_price   36900 non-null  float64       \n",
      " 11  diff_total_paid_promo_price  36900 non-null  float64       \n",
      "dtypes: datetime64[ns](1), float32(1), float64(6), int64(3), object(1)\n",
      "memory usage: 3.2+ MB\n"
     ]
    }
   ],
   "source": [
    "diff_df.info()"
   ]
  },
  {
   "cell_type": "markdown",
   "id": "9dbf9872-09c4-4d51-ba5f-9d3030b70a2e",
   "metadata": {},
   "source": [
    "# 4. Merge dataframes - all orders\n",
    "**The code is very close to that in section 3. Therefore it is not discussed separately to limit the file length.**"
   ]
  },
  {
   "cell_type": "code",
   "execution_count": 311,
   "id": "dcaa2ccc-2341-4b1f-85c0-b89ba763c4ba",
   "metadata": {},
   "outputs": [
    {
     "name": "stdout",
     "output_type": "stream",
     "text": [
      "8740 6798\n",
      "8740 6155\n",
      "8740 6155 6155\n",
      "226904 162183 144416\n",
      "144416 144416\n",
      "With the 30 largest types, we account for 76.89% of all products.\n",
      "144416 144416\n",
      "144416 144416 144416\n"
     ]
    }
   ],
   "source": [
    "### Exclude orders with unknown products\n",
    "# Let's start by making a list of known products.\n",
    "# Get all product ids from products_cl \n",
    "known_skus_list = list(products_cl[\"sku\"])\n",
    "\n",
    "# Check where products ids in outlines and products dfs match\n",
    "orderlines_qu=orderlines_cl.copy()\n",
    "print(len(list(products_cl[\"sku\"].unique())), len(list(orderlines_qu[\"sku\"].unique())))\n",
    "orderlines_qu.sku.isin(known_skus_list).value_counts()\n",
    "\n",
    "# Restrict the orderlines product ids to known list\n",
    "orders_with_unknown_products_list = list(orderlines_qu.loc[~orderlines_qu.sku.isin(known_skus_list), \"id_order\"])\n",
    "orderlines_qu = orderlines_qu.loc[~orderlines_qu[\"id_order\"].isin(orders_with_unknown_products_list), :]\n",
    "print(len(list(products_cl[\"sku\"].unique())), len(list(orderlines_qu[\"sku\"].unique())))\n",
    "\n",
    "# Now adjust product ids in the products df\n",
    "actual_prod_list = list(orderlines_qu[\"sku\"].unique())\n",
    "products_qu = products_cl.loc[products_cl[\"sku\"].isin(actual_prod_list), :].copy()\n",
    "print(len(list(products_cl[\"sku\"].unique())), len(list(products_qu[\"sku\"].unique())), len(list(orderlines_qu[\"sku\"].unique())))\n",
    "\n",
    "\n",
    "df_merged_ol_prod_all = orderlines_qu.merge(products_qu, how=\"left\", on=\"sku\")\n",
    "# let's also calculate the discount using unit_price **(discount_unit_price)**\n",
    "df_merged_ol_prod_all[\"discount_unit_price\"]=df_merged_ol_prod_all[\"mod_price\"]-df_merged_ol_prod_all[\"unit_price\"]\n",
    "df_merged_ol_prod_all[\"discount_unit_price_share\"]= df_merged_ol_prod_all[\"discount_unit_price\"]*100/df_merged_ol_prod_all[\"mod_price\"]\n",
    "df_merged_ol_prod_all=df_merged_ol_prod_all.drop(axis=1, columns=[\"product_id\", \"id\"])\n",
    "df_merged_ol_prod_all.head()\n",
    "\n",
    "# Following assumption 2, lets drop products with negative discounts\n",
    "df_merged_ol_prod_all = df_merged_ol_prod_all[~df_merged_ol_prod_all['id_order'].isin(df_merged_ol_prod_all.loc[df_merged_ol_prod_all['discount_unit_price'] < -1, 'id_order'])]\n",
    "df_merged_ol_prod_all = df_merged_ol_prod_all[~df_merged_ol_prod_all['id_order'].isin(df_merged_ol_prod_all.loc[df_merged_ol_prod_all['discount_share'] < -1, 'id_order'])]\n",
    "df_merged_ol_prod_all = df_merged_ol_prod_all[~df_merged_ol_prod_all['id_order'].isin(df_merged_ol_prod_all.loc[df_merged_ol_prod_all['discount_unit_price_share'] < -1, 'id_order'])]\n",
    "df_merged_ol_prod_all.shape\n",
    "\n",
    "\n",
    "# calculate the quartiles\n",
    "Q1 = df_merged_ol_prod_all[\"discount_unit_price\"].quantile(0.25)\n",
    "Q3 = df_merged_ol_prod_all[\"discount_unit_price\"].quantile(0.75)\n",
    "\n",
    "# calculate the interquartile range\n",
    "IQR = Q3-Q1\n",
    "\n",
    "# filter the DataFrame to include only \"non-outliers\"\n",
    "orders_with_neg_discounts_list = list(df_merged_ol_prod_all.loc[(df_merged_ol_prod_all[\"discount_unit_price\"] >= (Q1 - 1.5*IQR)) & (df_merged_ol_prod_all[\"discount_unit_price\"] <= (Q3 + 1.5*IQR)), \"id_order\"])\n",
    "df_merged_ol_prod_all=df_merged_ol_prod_all.loc[df_merged_ol_prod_all[\"id_order\"].isin(orders_with_neg_discounts_list), :]\n",
    "df_merged_ol_prod_all.describe()\n",
    "\n",
    "# Get the order ids of the completed orders\n",
    "compl_orders_df = orders_cl.copy()\n",
    "# compl_orders_df = compl_orders_df.loc[compl_orders_df.state == \"Completed\", :]\n",
    "compl_orders_list = list(compl_orders_df[\"order_id\"])\n",
    "\n",
    "# Restrict the dfs to completed orders\n",
    "orders_qu = orders_cl.loc[orders_cl[\"order_id\"].isin(compl_orders_list), :].copy()\n",
    "df_merged_ol_prod_all = df_merged_ol_prod_all.loc[df_merged_ol_prod_all[\"id_order\"].isin(compl_orders_list), :].copy()\n",
    "print(len(list(orders_qu.order_id.unique())), len(list(orderlines_qu.id_order.unique())), len(list(df_merged_ol_prod_all.id_order.unique())))\n",
    "\n",
    "\n",
    "# Readjust the orders df to keep order ids also present in df_merged_ol_prod_all\n",
    "o_ids_in_both_list = list(df_merged_ol_prod_all[\"id_order\"].unique())\n",
    "orders_qu = orders_qu.loc[orders_qu[\"order_id\"].isin(o_ids_in_both_list), :]\n",
    "print(len(list(orders_qu.order_id.unique())), len(list(df_merged_ol_prod_all.id_order.unique())))\n",
    "\n",
    "# Create new columns \"Old\" and \"repair service\"\n",
    "df_merged_ol_prod_all['combined'] = df_merged_ol_prod_all['name'] + ' ' + df_merged_ol_prod_all['desc']\n",
    "\n",
    "# Define keywords that suggest refurbed products\n",
    "searchfor = [\"refurb\", \"refit\", \"renew\", \"second\", \"like new\", \"reconditioned\", \"used\"]\n",
    "searchfor2=[\"repair service\"]\n",
    "\n",
    "# Create a new column \"Old\"\n",
    "df_merged_ol_prod_all[\"Old\"] = df_merged_ol_prod_all['combined'].str.lower().apply(lambda x: 1 if any(i in x for i in searchfor) else 0)\n",
    "df_merged_ol_prod_all[\"repair service\"] = df_merged_ol_prod_all['combined'].str.lower().apply(lambda x: 1 if any(i in x for i in searchfor2) else 0)\n",
    "\n",
    "df_merged_ol_prod_all[\"brand\"]=df_merged_ol_prod_all[\"sku\"].str[0:3]\n",
    "\n",
    "\n",
    "df_merged_ol_prod_all[\"category\"] = \"\"\n",
    "\n",
    "df_merged_ol_prod_all.loc[df_merged_ol_prod_all[\"name\"].str.contains(\"apple\", case=False), \"category\"] += \", apple\"\n",
    "df_merged_ol_prod_all.loc[df_merged_ol_prod_all[\"name\"].str.contains(\"^.{0,7}apple iphone|phone|mobile|smartphone\", case=False), \"category\"] += \", smartphone\"\n",
    "df_merged_ol_prod_all.loc[df_merged_ol_prod_all[\"name\"].str.contains(\"^.{0,7}apple ipod\", case=False), \"category\"] += \", ipod\"\n",
    "df_merged_ol_prod_all.loc[df_merged_ol_prod_all[\"name\"].str.contains(\"^.{0,7}apple ipad|tablet\", case=False), \"category\"] += \", tablet\"\n",
    "df_merged_ol_prod_all.loc[df_merged_ol_prod_all[\"name\"].str.contains(\"imac|mac mini|mac pro| mac \", case=False), \"category\"] += \", desktop\"\n",
    "df_merged_ol_prod_all.loc[df_merged_ol_prod_all[\"name\"].str.contains(\"macbook\", case=False), \"category\"] += \", laptop\"\n",
    "df_merged_ol_prod_all.loc[df_merged_ol_prod_all[\"desc\"].str.contains(\"screen|monitor|keyboard|mouse|cable|connector|lightning to usb|wall socket|power strip|nas|server|raid|synology|adapter|dock|hub|connection|expansion box|battery|charger|flash drive|hard drive|pendrive|hard disk|memory|storage|^ssd|^hardssd|modules|ssd expansion|pointer|camera|^.{0,7}ram|thermometer|charger\", case=False), \"category\"] = \", electronic_acc\"\n",
    "df_merged_ol_prod_all.loc[df_merged_ol_prod_all[\"desc\"].str.contains(\"headset|headphones|earpod|airpod|earphones|speaker|music system\", case=False), \"category\"] += \", headsets\"\n",
    "df_merged_ol_prod_all.loc[df_merged_ol_prod_all[\"desc\"].str.contains(\"case|funda|housing|casing|folder|strap|armband|belt|bracelet|stand|support|protect|cover|sleeve|screensaver|shell\", case=False), \"category\"] += \", non_electronic_acc\"\n",
    "df_merged_ol_prod_all.loc[df_merged_ol_prod_all[\"desc\"].str.contains(\"^.{0,6}apple watch|smartwatch|smart watch\", case=False), \"category\"] += \", smartwatch\"\n",
    "df_merged_ol_prod_all.loc[df_merged_ol_prod_all[\"desc\"].str.contains(\"monitor\", case=False), \"category\"] += \", monitor\"\n",
    "df_merged_ol_prod_all.loc[df_merged_ol_prod_all[\"desc\"].str.contains(\"like new|refurb|refit|renew|second|like new|reconditioned|used\", case=False), \"category\"] += \", refurbished\"\n",
    "#df_merged_ol_prod_all.loc[df_merged_ol_prod_all[\"desc\"].str.contains(\"repair service\", case=False), \"category\"] += \", repair service\"\n",
    "\n",
    "df_merged_ol_prod_all.loc[df_merged_ol_prod_all[\"category\"] == \"\", \"category\"] += \", other\"\n",
    "\n",
    "df_merged_ol_prod_all[\"category\"]=df_merged_ol_prod_all[\"category\"].str.replace(\", \", \"\", 1)\n",
    "df_merged_ol_prod_all[\"category\"]=df_merged_ol_prod_all[\"category\"].str.replace(\"apple\", \"Apple\")\n",
    "df_merged_ol_prod_all[\"category\"]=df_merged_ol_prod_all[\"category\"].str.replace(\",\", \":\", 1)\n",
    "df_merged_ol_prod_all[\"category\"]=df_merged_ol_prod_all[\"category\"].str.replace(\",\", \"\")\n",
    "df_merged_ol_prod_all[\"category\"].value_counts().sort_index()\n",
    "\n",
    "\n",
    "#\"Apple: refurbished\"\n",
    "df_merged_ol_prod_all.loc[(df_merged_ol_prod_all[\"Old\"]==1) & (df_merged_ol_prod_all[\"brand\"].isin([\"APP\", \"AP2\"])), \"category\"]=\"Apple: refurbished\"\n",
    "df_merged_ol_prod_all.loc[(df_merged_ol_prod_all[\"Old\"]==1) & (~df_merged_ol_prod_all[\"brand\"].isin([\"APP\", \"AP2\"])), \"category\"]=\"refurbished\"\n",
    "\n",
    "df_merged_ol_prod_all.loc[(df_merged_ol_prod_all[\"category\"].str.contains(\"non_electronic_acc\")) & (df_merged_ol_prod_all[\"brand\"].isin([\"APP\", \"AP2\"])), \"category\"]=\"Apple\"\n",
    "df_merged_ol_prod_all.loc[(df_merged_ol_prod_all[\"category\"].str.contains(\"non_electronic_acc\")) & (~df_merged_ol_prod_all[\"brand\"].isin([\"APP\", \"AP2\"])), \"category\"]=\"other\"\n",
    "df_merged_ol_prod_all.loc[(df_merged_ol_prod_all[\"category\"]==\"Apple\") & (~df_merged_ol_prod_all[\"brand\"].isin([\"APP\", \"AP2\"])), \"category\"]=\"other\"\n",
    "\n",
    "category_counts = df_merged_ol_prod_all[\"category\"].value_counts().sort_index().to_dict()\n",
    "category_counts\n",
    "\n",
    "\n",
    "#searchfor = [\"Apple: smartphone headsets\", \"Apple\", \"desktop: headsets\", \"headsets: smartwatch monitor\", \"desktop: laptop\", \"electronic_acc: headsets monitor\"]\n",
    "#df_merged_ol_prod_all.loc[(df_merged_ol_prod_all[\"category\"].str.contains('|'.join(searchfor))) & (~df_merged_ol_prod_all[\"brand\"].isin([\"APP\", \"AP2\"])), \"category\"]=\"other\"\n",
    "df_merged_ol_prod_all[\"category\"] = df_merged_ol_prod_all[\"category\"].replace({\n",
    "    'Apple: smartphone headsets': 'Apple',     \n",
    "    'desktop: headsets': \"other\",    \n",
    "    'desktop: laptop': \"other\",    \n",
    "    \"electronic_acc\": \"other\",    \n",
    "    \"electronic_acc: headsets monitor\": \"other\",     \n",
    "    \"electronic_acc: monitor\": \"other\",     \n",
    "    \"electronic_acc: smartwatch monitor\": \"other\", \n",
    "    \"electronic_acc: headsets\": \"other\", \n",
    "    \"smartphone: headsets\": \"other\",   \n",
    "    \"smartphone: desktop\": \"other\",     \n",
    "    \"smartphone: smartwatch\": \"other\",  \n",
    "    \"tablet: headsets\": \"other\",\n",
    "    \"headsets\": \"other\"})\n",
    "df_merged_ol_prod_all[\"category\"].value_counts().sort_index()\n",
    "\n",
    "\n",
    "n = 30\n",
    "\n",
    "# Get the top n categories based on counts\n",
    "top_n_categories = df_merged_ol_prod_all.groupby('type').count().nlargest(n, 'sku').index\n",
    "\n",
    "# Create a new column 'product_type' with initial value 'others'\n",
    "df_merged_ol_prod_all['product_type'] = 'others'\n",
    "\n",
    "# Set 'top_30' for rows with categories in the top_n_categories\n",
    "df_merged_ol_prod_all.loc[df_merged_ol_prod_all['type'].isin(top_n_categories), 'product_type'] = 'top_30'\n",
    "\n",
    "print(f\"With the {n} largest types, we account for {((df_merged_ol_prod_all.groupby('type').count().nlargest(n, 'sku')['sku'].sum()) / (df_merged_ol_prod_all.shape[0]) * 100).round(2)}% of all products.\")\n",
    "\n",
    "df_merged_ol_prod_all.to_csv(\"Cleaned_data/df_merged_ol_prod_all.csv\", index=False)\n",
    "\n",
    "print(len(list(orders_qu.order_id.unique())), len(list(df_merged_ol_prod_all.id_order.unique())))\n",
    "\n",
    "# Generate the alternative indicator for total pay column\n",
    "df_merged_ol_prod_all[\"unit_price_revenue\"] = df_merged_ol_prod_all[\"product_quantity\"] * df_merged_ol_prod_all[\"unit_price\"]\n",
    "df_merged_ol_prod_all[\"promo_price_revenue\"] = df_merged_ol_prod_all[\"product_quantity\"] * df_merged_ol_prod_all[\"mod_promo_price\"]\n",
    "\n",
    "# Group by merged df by order id\n",
    "ol_products_merged_group_orders = df_merged_ol_prod_all.groupby(\"id_order\", as_index=False).agg({\"unit_price_revenue\": \"sum\", \"promo_price_revenue\": \"sum\", \"product_quantity\": \"sum\", \"discount_share\": \"mean\", \"discount_unit_price_share\": \"mean\"})\n",
    "\n",
    "orders_qu_copy = orders_qu.copy()\n",
    "df_merged_ol_prod_ord_all = orders_qu_copy.merge(ol_products_merged_group_orders, how=\"left\", left_on=\"order_id\", right_on=\"id_order\")\n",
    "print(len(list(orders_qu_copy[\"order_id\"].unique())), len(list(df_merged_ol_prod_all[\"id_order\"].unique())), len(list(df_merged_ol_prod_ord_all[\"id_order\"].unique())))\n",
    "\n",
    "df_merged_ol_prod_ord_all[\"diff_total_paid_unit_price\"] = df_merged_ol_prod_ord_all[\"total_paid\"] - df_merged_ol_prod_ord_all[\"unit_price_revenue\"]\n",
    "df_merged_ol_prod_ord_all[\"diff_total_paid_promo_price\"] = df_merged_ol_prod_ord_all[\"total_paid\"] - df_merged_ol_prod_ord_all[\"promo_price_revenue\"]\n",
    "\n",
    "df_merged_ol_prod_ord_all.to_csv(\"Cleaned_data/df_merged_ol_prod_ord_all.csv\", index=False)\n",
    "\n",
    "df_merged_ol_prod_ord_all_ltd=df_merged_ol_prod_ord_all[[\"order_id\", \"state\", \"total_paid\"]]\n",
    "df_merged_ol_prod_all= df_merged_ol_prod_all.merge(df_merged_ol_prod_ord_all_ltd, how=\"left\", left_on=\"id_order\", right_on=\"order_id\")\n",
    "df_merged_ol_prod_all.to_csv(\"Cleaned_data/df_merged_ol_prod_all.csv\", index=False)"
   ]
  }
 ],
 "metadata": {
  "kernelspec": {
   "display_name": "Python 3 (ipykernel)",
   "language": "python",
   "name": "python3"
  },
  "language_info": {
   "codemirror_mode": {
    "name": "ipython",
    "version": 3
   },
   "file_extension": ".py",
   "mimetype": "text/x-python",
   "name": "python",
   "nbconvert_exporter": "python",
   "pygments_lexer": "ipython3",
   "version": "3.10.13"
  }
 },
 "nbformat": 4,
 "nbformat_minor": 5
}
